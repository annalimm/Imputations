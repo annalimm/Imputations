{
 "cells": [
  {
   "cell_type": "markdown",
   "id": "798b6077-222b-4fa2-8fd9-4abc4544402e",
   "metadata": {},
   "source": [
    "# Exp ^ data. np.exp"
   ]
  },
  {
   "cell_type": "code",
   "execution_count": 1,
   "id": "068cf2fe-c079-4b6a-a88f-24aa20f68102",
   "metadata": {},
   "outputs": [],
   "source": [
    "import numpy as np\n",
    "import pandas as pd\n",
    "import pyampute\n",
    "from pyampute.ampute import MultivariateAmputation\n",
    "from sklearn.experimental import enable_iterative_imputer\n",
    "from sklearn.impute import SimpleImputer, IterativeImputer\n",
    "from sklearn.linear_model import BayesianRidge\n",
    "import os\n",
    "import matplotlib.pyplot as plt\n",
    "from sklearn import linear_model"
   ]
  },
  {
   "cell_type": "code",
   "execution_count": 2,
   "id": "054c6508-5abe-42d5-8d7a-a4ef4a1bd666",
   "metadata": {
    "tags": []
   },
   "outputs": [
    {
     "data": {
      "text/plain": [
       "array([2.71828183, 7.3890561 ])"
      ]
     },
     "execution_count": 2,
     "metadata": {},
     "output_type": "execute_result"
    }
   ],
   "source": [
    "np.exp([1,2])"
   ]
  },
  {
   "cell_type": "code",
   "execution_count": 6,
   "id": "a41f1305-93d5-481b-8693-a89c4782c582",
   "metadata": {},
   "outputs": [],
   "source": [
    "def data_inexp_gener(n, mu, ro):\n",
    "    Sigma = np.array([[1, ro, ro], [ro, 1, ro], [ro, ro, 1]])\n",
    "    X_normal = np.random.multivariate_normal(mu, Sigma, size = n)\n",
    "    X_cont = np.exp(X_normal)\n",
    "    \n",
    "    return X_cont"
   ]
  },
  {
   "cell_type": "code",
   "execution_count": 7,
   "id": "51f6afe1-d3b7-4206-93c0-91663f1681f5",
   "metadata": {},
   "outputs": [],
   "source": [
    "mu1 = np.array([5, 5, 10])\n",
    "mu2 = np.array([1, 100, 10000])"
   ]
  },
  {
   "cell_type": "code",
   "execution_count": 8,
   "id": "082271b0-7d01-415d-b4b9-262b9684d57b",
   "metadata": {},
   "outputs": [
    {
     "data": {
      "text/plain": [
       "array([[3.02968250e+02, 9.61785993e+01, 7.58605245e+03],\n",
       "       [4.62535646e+02, 2.77208779e+02, 4.29517530e+03],\n",
       "       [1.12300533e+02, 2.49618788e+01, 3.99852916e+03],\n",
       "       [5.14388816e+02, 9.96508311e+02, 3.00984946e+04],\n",
       "       [1.98894910e+02, 2.33025158e+01, 3.52050065e+03],\n",
       "       [1.25494072e+02, 6.09780908e+02, 5.90163442e+04],\n",
       "       [3.59565181e+02, 2.95714389e+02, 1.04213914e+04],\n",
       "       [1.44901470e+02, 5.10171797e+01, 1.86673492e+04],\n",
       "       [1.73259327e+02, 1.98273506e+02, 8.01006068e+04],\n",
       "       [2.24096662e+02, 6.01582741e+01, 1.54493188e+04]])"
      ]
     },
     "execution_count": 8,
     "metadata": {},
     "output_type": "execute_result"
    }
   ],
   "source": [
    "data_inexp_gener(10, np.array([5, 5, 10]), 0.2)"
   ]
  },
  {
   "cell_type": "code",
   "execution_count": null,
   "id": "445066f5-bd7f-4f13-8072-e9073d496261",
   "metadata": {},
   "outputs": [],
   "source": []
  },
  {
   "cell_type": "code",
   "execution_count": null,
   "id": "9e9be4d7-01d1-4de2-8154-cceac416c847",
   "metadata": {},
   "outputs": [],
   "source": []
  },
  {
   "cell_type": "code",
   "execution_count": null,
   "id": "acbfb2f5-4246-4a75-993f-69c017a418bd",
   "metadata": {},
   "outputs": [],
   "source": [
    "def M_ampute(mu, param, num, propor, mech):\n",
    "\n",
    "    corrs = np.arange(0.1, 1, 0.1)\n",
    "    df_bias = pd.DataFrame(columns = ['full', mech+str(1), mech+str(2), mech+str(3), mech+str(4)])\n",
    "\n",
    "    for cor in corrs:\n",
    "\n",
    "        n = 0\n",
    "        df_means = pd.DataFrame(columns = ['mean_full', 'mean_M1', 'mean_M2', 'mean_M3', 'mean_M4'])\n",
    "\n",
    "        for n in np.arange(100):\n",
    "\n",
    "            X_full = data_inexp_gener(1000, mu, cor)\n",
    "            df_means.loc[n, 'mean_full'] = X_full[:,num].mean() \n",
    "\n",
    "\n",
    "            #___MAR1________'incomplete_vars': [0,1], 'weights': [0,0,1]\n",
    "\n",
    "            ma = MultivariateAmputation(\n",
    "                patterns = [ {'incomplete_vars': [0,1], 'mechanism': mech} ],\n",
    "                prop = propor\n",
    "            )\n",
    "            X_miss = ma.fit_transform(X_full)\n",
    "\n",
    "            X_m = pd.DataFrame(X_miss, columns = ['Y1','Y2','X1'])\n",
    "            cc = X_m.dropna()\n",
    "            df_means.loc[n, 'mean_M1'] = cc[param].mean() \n",
    "\n",
    "\n",
    "            \n",
    "            #___MAR2________'incomplete_vars': [0], 'weights': [0,1,1]\n",
    "\n",
    "            ma = MultivariateAmputation(\n",
    "                patterns = [ {'incomplete_vars': [0], 'mechanism': mech} ],\n",
    "                prop = propor\n",
    "            )\n",
    "            X_miss = ma.fit_transform(X_full)\n",
    "\n",
    "            X_m = pd.DataFrame(X_miss, columns = ['Y1','Y2','X1'])\n",
    "            cc = X_m.dropna()\n",
    "            df_means.loc[n, 'mean_M2'] = cc[param].mean()\n",
    "\n",
    "\n",
    "\n",
    "\n",
    "            #___MAR3________'incomplete_vars': [1,2], 'weights': [1,0,0]\n",
    "\n",
    "            ma = MultivariateAmputation(\n",
    "                patterns = [ {'incomplete_vars': [1,2], 'mechanism': mech} ],\n",
    "                prop = propor\n",
    "            )\n",
    "            X_miss = ma.fit_transform(X_full)\n",
    "\n",
    "            X_m = pd.DataFrame(X_miss, columns = ['Y1','Y2','X1'])\n",
    "            cc = X_m.dropna()\n",
    "            df_means.loc[n, 'mean_M3'] = cc[param].mean()\n",
    "\n",
    "\n",
    "\n",
    "            \n",
    "            #___MAR4________'incomplete_vars': [2], 'weights': [1,1,0]\n",
    "\n",
    "            ma = MultivariateAmputation(\n",
    "                patterns = [ {'incomplete_vars': [2], 'mechanism': mech} ],\n",
    "                prop = propor\n",
    "            )\n",
    "            X_miss = ma.fit_transform(X_full)\n",
    "\n",
    "            X_m = pd.DataFrame(X_miss, columns = ['Y1','Y2','X1'])\n",
    "            cc = X_m.dropna()\n",
    "            df_means.loc[n, 'mean_M4'] = cc[param].mean()\n",
    "\n",
    "\n",
    "        df_bias.loc[cor, 'full'] = df_means['mean_full'].mean() - df_means['mean_full'].mean() \n",
    "        df_bias.loc[cor, mech+str(1)] = df_means['mean_M1'].mean() - df_means['mean_full'].mean()\n",
    "        df_bias.loc[cor, mech+str(2)] = df_means['mean_M2'].mean() - df_means['mean_full'].mean()\n",
    "        df_bias.loc[cor, mech+str(3)] = df_means['mean_M3'].mean() - df_means['mean_full'].mean()\n",
    "        df_bias.loc[cor, mech+str(4)] = df_means['mean_M4'].mean() - df_means['mean_full'].mean()\n",
    "\n",
    "    return df_bias    "
   ]
  }
 ],
 "metadata": {
  "kernelspec": {
   "display_name": "mice",
   "language": "python",
   "name": "mice"
  },
  "language_info": {
   "codemirror_mode": {
    "name": "ipython",
    "version": 3
   },
   "file_extension": ".py",
   "mimetype": "text/x-python",
   "name": "python",
   "nbconvert_exporter": "python",
   "pygments_lexer": "ipython3",
   "version": "3.9.12"
  }
 },
 "nbformat": 4,
 "nbformat_minor": 5
}
