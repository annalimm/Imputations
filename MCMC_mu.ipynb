{
 "cells": [
  {
   "cell_type": "code",
   "execution_count": 1,
   "id": "13c14080-dd7a-4043-bd0e-9339d69549f0",
   "metadata": {},
   "outputs": [],
   "source": [
    "%matplotlib inline\n",
    "\n",
    "import numpy as np\n",
    "import scipy as sp\n",
    "import pandas as pd\n",
    "import matplotlib.pyplot as plt\n",
    "import seaborn as sns\n",
    "\n",
    "from scipy.stats import norm\n",
    "\n",
    "sns.set_style('white')\n",
    "sns.set_context('talk')\n",
    "\n",
    "np.random.seed(123)"
   ]
  },
  {
   "cell_type": "code",
   "execution_count": null,
   "id": "9b7bb43f-c45a-4008-b3c4-75c06ca8e8bf",
   "metadata": {},
   "outputs": [],
   "source": []
  },
  {
   "cell_type": "markdown",
   "id": "bbfa7534-71a8-4b71-bc2d-83d76a9dc25d",
   "metadata": {},
   "source": [
    "The goal is to estimate the posterior of the mean mu"
   ]
  },
  {
   "cell_type": "markdown",
   "id": "6c08fc1e-934e-4ba0-a486-b34862fbf2d6",
   "metadata": {},
   "source": [
    "we generate 20 points from a normal centered around zero (assume we know that standart deviation σ=1)"
   ]
  },
  {
   "cell_type": "code",
   "execution_count": 7,
   "id": "396aee9f-55b1-4264-a3ff-b24112c63d0f",
   "metadata": {},
   "outputs": [
    {
     "data": {
      "text/plain": [
       "<AxesSubplot:title={'center':'Histogram of observed data'}, xlabel='x', ylabel='# observations'>"
      ]
     },
     "execution_count": 7,
     "metadata": {},
     "output_type": "execute_result"
    },
    {
     "data": {
      "image/png": "[encoded data removed]",
      "text/plain": [
       "<Figure size 432x288 with 1 Axes>"
      ]
     },
     "metadata": {},
     "output_type": "display_data"
    }
   ],
   "source": [
    "data = np.random.randn(20)\n",
    "\n",
    "ax = plt.subplot()\n",
    "ax.set(title = 'Histogram of observed data', xlabel = 'x', ylabel = '# observations')\n",
    "sns.histplot(data, kde = False, ax = ax)"
   ]
  },
  {
   "cell_type": "code",
   "execution_count": null,
   "id": "db1e6535-d031-4be0-98fd-27b57883325e",
   "metadata": {},
   "outputs": [],
   "source": []
  },
  {
   "cell_type": "markdown",
   "id": "07f0994f-6144-45d3-852c-d6c96d7a16b8",
   "metadata": {},
   "source": [
    "Цель -- вывести апостериорное значение для µ.\n",
    "\n",
    "We have to define our model. In this simple case we'll assume that this data is normal distributed, i.e. the likelihood of the model is normal. \n",
    "\n",
    "We have to choose a prior (denominator). Lets also assume a Normal distribution as a prior for μ.\n",
    "\n",
    "Таким образом наша модель:\n",
    "\n",
    "$\\mu \\sim$ Normal(0,1)\n",
    "\n",
    "$x | \\mu \\sim$ Normal(x; $\\mu$, 1)"
   ]
  },
  {
   "cell_type": "code",
   "execution_count": null,
   "id": "bfaef741-2081-43e4-9e16-edc1abc8418b",
   "metadata": {},
   "outputs": [],
   "source": []
  }
 ],
 "metadata": {
  "kernelspec": {
   "display_name": "Python 3",
   "language": "python",
   "name": "python3"
  },
  "language_info": {
   "codemirror_mode": {
    "name": "ipython",
    "version": 3
   },
   "file_extension": ".py",
   "mimetype": "text/x-python",
   "name": "python",
   "nbconvert_exporter": "python",
   "pygments_lexer": "ipython3",
   "version": "3.8.8"
  }
 },
 "nbformat": 4,
 "nbformat_minor": 5
}
