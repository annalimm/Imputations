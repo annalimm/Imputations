{
 "cells": [
  {
   "cell_type": "code",
   "execution_count": 3,
   "id": "d8ddb62b-a6c9-4aac-8d3e-c728325e8443",
   "metadata": {},
   "outputs": [],
   "source": [
    "import numpy as np\n",
    "import matplotlib.pyplot as plt\n",
    "from scipy import special\n",
    "\n",
    "from sklearn.datasets import load_boston\n",
    "from sklearn.linear_model import BayesianRidge\n",
    "from sklearn.pipeline import Pipeline\n",
    "from sklearn.preprocessing import StandardScaler\n",
    "from sklearn.model_selection import train_test_split\n",
    "from sklearn.experimental import enable_iterative_imputer\n",
    "from sklearn.impute import IterativeImputer\n",
    "from sklearn.metrics import mean_squared_error as mse"
   ]
  },
  {
   "cell_type": "code",
   "execution_count": 17,
   "id": "259b728b-179d-475a-903b-d129c1eb6579",
   "metadata": {},
   "outputs": [],
   "source": [
    "MAX_ITER = 20  # number of iterations in IterativeImputer\n",
    "ESTIMATOR = Pipeline(\n",
    "    steps=[(\"scaler\", StandardScaler()), (\"regressor\", BayesianRidge())]\n",
    ")"
   ]
  },
  {
   "cell_type": "code",
   "execution_count": 13,
   "id": "31706d50-66f0-47aa-a8cf-bb732339a872",
   "metadata": {},
   "outputs": [],
   "source": [
    "def ampute(X, missing_rate=0.75, strategy=\"MCAR\"):\n",
    "    \"\"\"Insert missing data into X.\n",
    "    Ampute is the inverse of impute and serves at simulating a dataset with\n",
    "    missing data. Two strategies are implemented to remove data: (1) missing\n",
    "    completely at random (MCAR) and (2) not missing completely at random\n",
    "    (NMCAR).\n",
    "    Parameters\n",
    "    ----------\n",
    "    X : ndarray, shape (n_samples, n_features)\n",
    "        The data without missing samples.\n",
    "    missing_rate : float, default=0.75\n",
    "        The amount of missing data in ``X``.\n",
    "    strategy : {'MCAR', 'NMCAR'}, default='MCAR'\n",
    "        The strategy for removing data. Must be 'MCAR' or 'NMCAR'.\n",
    "        If MCAR, each sample will have a random missing feature.\n",
    "        If NMCAR, each sample will have a random missing feature. However,\n",
    "        values that are farther from the feature mean are more likely to be\n",
    "        made missing.\n",
    "    Returns\n",
    "    -------\n",
    "    X_out : ndarray, shape (n_samples, n_features)\n",
    "        Output data with missing entries.\n",
    "    \"\"\"\n",
    "    X_out = X.copy()\n",
    "    n_drop_per_feature = int(missing_rate * X.shape[0])\n",
    "    for x in np.transpose(X_out):\n",
    "        if strategy == \"MCAR\":\n",
    "            prob = None\n",
    "        elif strategy == \"NMCAR\":\n",
    "            weights = special.expit(np.abs(x - x.mean()))\n",
    "            prob = weights / weights.sum()\n",
    "        drop_idx = np.random.choice(\n",
    "            X.shape[0], p=prob, replace=False, size=n_drop_per_feature\n",
    "        )\n",
    "        x[drop_idx] = np.nan\n",
    "    return X_out"
   ]
  },
  {
   "cell_type": "code",
   "execution_count": 8,
   "id": "c0792e66-ccf1-4880-a8c8-95fcfa853798",
   "metadata": {},
   "outputs": [
    {
     "name": "stderr",
     "output_type": "stream",
     "text": [
      "/opt/anaconda3/envs/mice/lib/python3.9/site-packages/scikit_learn-1.1.1-py3.9-macosx-10.9-x86_64.egg/sklearn/utils/deprecation.py:87: FutureWarning: Function load_boston is deprecated; `load_boston` is deprecated in 1.0 and will be removed in 1.2.\n",
      "\n",
      "    The Boston housing prices dataset has an ethical problem. You can refer to\n",
      "    the documentation of this function for further details.\n",
      "\n",
      "    The scikit-learn maintainers therefore strongly discourage the use of this\n",
      "    dataset unless the purpose of the code is to study and educate about\n",
      "    ethical issues in data science and machine learning.\n",
      "\n",
      "    In this special case, you can fetch the dataset from the original\n",
      "    source::\n",
      "\n",
      "        import pandas as pd\n",
      "        import numpy as np\n",
      "\n",
      "        data_url = \"http://lib.stat.cmu.edu/datasets/boston\"\n",
      "        raw_df = pd.read_csv(data_url, sep=\"\\s+\", skiprows=22, header=None)\n",
      "        data = np.hstack([raw_df.values[::2, :], raw_df.values[1::2, :2]])\n",
      "        target = raw_df.values[1::2, 2]\n",
      "\n",
      "    Alternative datasets include the California housing dataset (i.e.\n",
      "    :func:`~sklearn.datasets.fetch_california_housing`) and the Ames housing\n",
      "    dataset. You can load the datasets as follows::\n",
      "\n",
      "        from sklearn.datasets import fetch_california_housing\n",
      "        housing = fetch_california_housing()\n",
      "\n",
      "    for the California housing dataset and::\n",
      "\n",
      "        from sklearn.datasets import fetch_openml\n",
      "        housing = fetch_openml(name=\"house_prices\", as_frame=True)\n",
      "\n",
      "    for the Ames housing dataset.\n",
      "  warnings.warn(msg, category=FutureWarning)\n"
     ]
    }
   ],
   "source": [
    "# Loading the data\n",
    "X, y = load_boston(return_X_y=True)"
   ]
  },
  {
   "cell_type": "code",
   "execution_count": 24,
   "id": "d8db0907-f993-4ce3-ad93-1a6fada975e0",
   "metadata": {},
   "outputs": [],
   "source": [
    "# First, make the data incomplete with a MCAR mechanism.\n",
    "X_ampute = ampute(X, strategy=\"MCAR\")"
   ]
  },
  {
   "cell_type": "code",
   "execution_count": null,
   "id": "3be847ad-01d4-44bf-91f4-ecdbf0f3e23d",
   "metadata": {},
   "outputs": [],
   "source": [
    "###############################################################################\n",
    "# EXAMPLE 2. SHOW MULTIPLE IMPUTATION IN A PREDICTION CONTEXT.\n",
    "   \n",
    "\n",
    "# In this example, we show how to apply multiple imputation in a train/test\n",
    "# situation. To do so, you average the predictions of the models fit on every\n",
    "# imputed dataset, and then calculate the evaluation metric."
   ]
  },
  {
   "cell_type": "code",
   "execution_count": 9,
   "id": "1d3c38e7-dc83-4d95-99c7-f82db7ff92de",
   "metadata": {},
   "outputs": [],
   "source": [
    "N_SIM = 3  # number of simulations in Example 2\n",
    "ESTIMATOR_IMPUTER = Pipeline(\n",
    "    steps=[\n",
    "        (\"imputer\", IterativeImputer()),\n",
    "        (\"scaler\", StandardScaler()),\n",
    "        (\"regressor\", BayesianRidge()),\n",
    "    ]\n",
    ")\n",
    "\n",
    "\n",
    "# Use the IterativeImputer as a single imputation procedure.\n",
    "def get_mse_single_imputation(X_train, X_test, y_train, y_test, random_state=0):\n",
    "    ESTIMATOR_IMPUTER.set_params(\n",
    "        imputer__max_iter=MAX_ITER,\n",
    "        imputer__sample_posterior=True,\n",
    "        imputer__random_state=random_state,\n",
    "    )\n",
    "    y_predict = ESTIMATOR_IMPUTER.fit(X_train, y_train).predict(X_test)\n",
    "\n",
    "    return mse(y_test, y_predict), y_predict"
   ]
  },
  {
   "cell_type": "code",
   "execution_count": 10,
   "id": "4f7dd014-435f-4ab8-983c-8a153b21ecbc",
   "metadata": {},
   "outputs": [],
   "source": [
    "# We average the predictions of the m datasets.\n",
    "def get_mse_multiple_imputation_approach(X_train, X_test, y_train, y_test):\n",
    "    num_mice_runs = 5\n",
    "    multiple_predictions = []\n",
    "    for i in range(num_mice_runs):\n",
    "        _, y_predict = get_mse_single_imputation(\n",
    "            X_train, X_test, y_train, y_test, random_state=i\n",
    "        )\n",
    "        multiple_predictions.append(y_predict)\n",
    "\n",
    "    # Average the predictions over the m loops\n",
    "    # Then calculate the error metric.\n",
    "    predictions_average = np.mean(multiple_predictions, axis=0)\n",
    "    mse_multiple = mse(y_test, predictions_average)\n",
    "\n",
    "    return mse_multiple, predictions_average"
   ]
  },
  {
   "cell_type": "code",
   "execution_count": 18,
   "id": "39d9243d-4ab7-47cb-80ab-8b2fbe312f5a",
   "metadata": {},
   "outputs": [
    {
     "name": "stdout",
     "output_type": "stream",
     "text": [
      "Executing Example 2 MCAR Missingness...\n"
     ]
    }
   ],
   "source": [
    "def perform_simulation(X, y, X_ampute, n_simulation=10):\n",
    "    # Start a simulation process that executes the process n_simulation times.\n",
    "    outcome = []\n",
    "    for simulation_idx in range(n_simulation):\n",
    "        # First, split the data in train and test dataset.\n",
    "        (\n",
    "            X_train,\n",
    "            X_test,\n",
    "            X_ampute_train,\n",
    "            X_ampute_test,\n",
    "            y_train,\n",
    "            y_test,\n",
    "        ) = train_test_split(X, X_ampute, y, random_state=simulation_idx)\n",
    "\n",
    "        # Second, perform the imputation procedures and calculation of the\n",
    "        # error metric for every one of the  situations.\n",
    "        # Apply the regression model on the full dataset as a way of comparison\n",
    "        y_predict = ESTIMATOR.fit(X_train, y_train).predict(X_test)\n",
    "        mse_full = mse(y_test, y_predict)\n",
    "        mse_single, _ = get_mse_single_imputation(\n",
    "            X_ampute_train, X_ampute_test, y_train, y_test\n",
    "        )\n",
    "        mse_multiple, _ = get_mse_multiple_imputation_approach(\n",
    "            X_ampute_train, X_ampute_test, y_train, y_test\n",
    "        )\n",
    "\n",
    "        # Save the outcome of every simulation round\n",
    "        outcome.append((mse_full, mse_single, mse_multiple))\n",
    "\n",
    "    # Return the mean and standard deviation of the n_simulation outcome values\n",
    "    return np.mean(outcome, axis=0), np.std(outcome, axis=0)\n",
    "\n",
    "\n",
    "# Execute the simulation\n",
    "print(\"Executing Example 2 MCAR Missingness...\")\n",
    "\n",
    "# Perform the simulation\n",
    "mse_means, mse_std = perform_simulation(X, y, X_ampute, n_simulation=N_SIM)"
   ]
  },
  {
   "cell_type": "code",
   "execution_count": 19,
   "id": "43ffc3ae-9be1-43df-9366-73e8ab7a45e1",
   "metadata": {},
   "outputs": [
    {
     "data": {
      "image/png": "[encoded data removed]",
      "text/plain": [
       "<Figure size 864x432 with 1 Axes>"
      ]
     },
     "metadata": {
      "needs_background": "light"
     },
     "output_type": "display_data"
    }
   ],
   "source": [
    "# Plot results\n",
    "n_situations = 3\n",
    "n = np.arange(n_situations)\n",
    "n_labels = [\"Full Data\", \"Single Imputation\", \"Multiple Imputations\"]\n",
    "colors = [\"r\", \"orange\", \"green\"]\n",
    "\n",
    "plt.figure(figsize=(12, 6))\n",
    "ax1 = plt.subplot(111)\n",
    "for j in n:\n",
    "    ax1.barh(\n",
    "        j,\n",
    "        mse_means[j],\n",
    "        xerr=mse_std[j],\n",
    "        color=colors[j],\n",
    "        alpha=0.6,\n",
    "        align=\"center\",\n",
    "    )\n",
    "\n",
    "ax1.set_title(\"MCAR Missingness\")\n",
    "ax1.set_yticks(n)\n",
    "ax1.set_xlabel(\"Mean Squared Error\")\n",
    "ax1.invert_yaxis()\n",
    "ax1.set_yticklabels(n_labels)\n",
    "plt.show()"
   ]
  },
  {
   "cell_type": "code",
   "execution_count": null,
   "id": "9d61fab7-99d6-402e-9881-1de2572a6cf7",
   "metadata": {},
   "outputs": [],
   "source": []
  }
 ],
 "metadata": {
  "kernelspec": {
   "display_name": "mice",
   "language": "python",
   "name": "mice"
  },
  "language_info": {
   "codemirror_mode": {
    "name": "ipython",
    "version": 3
   },
   "file_extension": ".py",
   "mimetype": "text/x-python",
   "name": "python",
   "nbconvert_exporter": "python",
   "pygments_lexer": "ipython3",
   "version": "3.9.12"
  }
 },
 "nbformat": 4,
 "nbformat_minor": 5
}
