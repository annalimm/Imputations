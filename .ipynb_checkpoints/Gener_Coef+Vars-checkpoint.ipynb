{
 "cells": [
  {
   "cell_type": "code",
   "execution_count": 1,
   "id": "eba57810-fe30-4bd2-80f6-8b95b11afac1",
   "metadata": {},
   "outputs": [],
   "source": [
    "import numpy as np\n",
    "import pandas as pd\n",
    "import pyampute\n",
    "from pyampute.ampute import MultivariateAmputation\n",
    "from sklearn.experimental import enable_iterative_imputer\n",
    "from sklearn.impute import SimpleImputer, IterativeImputer\n",
    "import os\n",
    "from matplotlib import pyplot as plt\n",
    "from sklearn.preprocessing import StandardScaler\n",
    "\n",
    "from sklearn.model_selection import train_test_split\n",
    "from sklearn.linear_model import BayesianRidge, LinearRegression\n",
    "\n",
    "import statsmodels.api as sm"
   ]
  },
  {
   "cell_type": "code",
   "execution_count": null,
   "id": "79f9f01e-5375-4350-8e25-98b14a3269c9",
   "metadata": {},
   "outputs": [],
   "source": []
  },
  {
   "cell_type": "code",
   "execution_count": null,
   "id": "0c4f89ef-f846-4e5a-b4d0-2850d58d57f6",
   "metadata": {},
   "outputs": [],
   "source": []
  },
  {
   "cell_type": "markdown",
   "id": "811455e3-f5ba-4e57-b7e4-711f7e3b4dfa",
   "metadata": {},
   "source": [
    "# Function (all together)"
   ]
  },
  {
   "cell_type": "code",
   "execution_count": 2,
   "id": "32912c09-9862-4d7f-a06a-e1cd4fc53ab6",
   "metadata": {},
   "outputs": [],
   "source": [
    "def rubins_pooling_rules(m_coefs, m_vars_coefs):\n",
    "    \"\"\"Applies Rubin's pooling rules.\n",
    "    The final weights is defined as the mean of the weights across the imputed\n",
    "    datasets while the total variance is defined as the combination of the mean\n",
    "    of the variance of the weights and the variance of the coefficients.\n",
    "    Parameters\n",
    "    ----------\n",
    "    m_coefs : ndarray, shape (n_imputations, n_features)\n",
    "        The weights of the model fitted on each imputed dataset.\n",
    "    m_vars_coefs : ndarray, shape (n_imputations, n_features)\n",
    "        An estimate of the variance of the weights on each imputed dataset.\n",
    "    Returns\n",
    "    -------\n",
    "    mean_coefs : ndarray, shape (n_features,)\n",
    "        The mean coefficients computed across the imputed datasets.\n",
    "    total_var_coefs : ndarray, shape (n_features,)\n",
    "        An estimate of the total variation of the weights across the imputed\n",
    "        datasets.\n",
    "    \"\"\"\n",
    "    mean_coefs = np.mean(m_coefs, axis=0)\n",
    "    mean_vars_coefs = np.mean(m_vars_coefs, axis=0)\n",
    "    vars_coefs = np.var(m_coefs, axis=0, ddof=1)\n",
    "    total_var_coefs = mean_vars_coefs + (1 + 1 / vars_coefs.shape[0]) * vars_coefs\n",
    "    return mean_coefs, total_var_coefs\n"
   ]
  },
  {
   "cell_type": "code",
   "execution_count": 100,
   "id": "1b1c43d2-8f45-48b1-b3f3-8ed31285390d",
   "metadata": {},
   "outputs": [],
   "source": [
    "def coefs_vars(df):\n",
    "    X = sm.add_constant(df.iloc[:, 0:3])\n",
    "    ols = sm.OLS(df.iloc[:,3], X)\n",
    "    ols_result = ols.fit()\n",
    "    \n",
    "    coefss = ols_result.params\n",
    "    varss = ols_result.bse\n",
    "    return coefss, varss"
   ]
  },
  {
   "cell_type": "code",
   "execution_count": 101,
   "id": "7931c666-90ea-49eb-92dd-d5ab5cae67b3",
   "metadata": {},
   "outputs": [],
   "source": [
    "n = 300\n",
    "def dataset(n = 300, mu = np.array([5, 5, 5, 5]), ro = 0.1):\n",
    "\n",
    "    Sigma = np.array([[1, ro, ro, ro], \n",
    "                      [ro, 1, ro, ro], \n",
    "                      [ro, ro, 1, ro], \n",
    "                      [ro, ro, ro, 1]])\n",
    "    X_cont = np.random.multivariate_normal(mu, Sigma, size = n)\n",
    "\n",
    "    X = pd.DataFrame(X_cont, columns = ['X1', 'X2', 'X3', 'Y1'])\n",
    "    \n",
    "    return X"
   ]
  },
  {
   "cell_type": "code",
   "execution_count": 210,
   "id": "15712a5d-b800-4c84-a1d7-71bd74ef1d0f",
   "metadata": {},
   "outputs": [
    {
     "data": {
      "text/plain": [
       "300"
      ]
     },
     "execution_count": 210,
     "metadata": {},
     "output_type": "execute_result"
    }
   ],
   "source": [
    "X.shape[0]"
   ]
  },
  {
   "cell_type": "code",
   "execution_count": 195,
   "id": "7eb31819-6da2-4c97-9448-81963c313ec3",
   "metadata": {},
   "outputs": [
    {
     "name": "stderr",
     "output_type": "stream",
     "text": [
      "/var/folders/92/dcftn9sd2dd2p4k6tn1p2plc0000gn/T/ipykernel_29889/996536265.py:8: RuntimeWarning: covariance is not positive-semidefinite.\n",
      "  X_cont = np.random.multivariate_normal(mu, Sigma, size = n)\n"
     ]
    }
   ],
   "source": [
    "df1 = dataset(mu = np.array([2, 2, 2, 3]), ro = 0.2, n = int(n/2))\n",
    "\n",
    "df2 = dataset(mu = np.array([1, 1, 1, 6]), ro = -1, n = int(n/2))\n"
   ]
  },
  {
   "cell_type": "code",
   "execution_count": null,
   "id": "e881f8f2-e0fe-4419-b20a-a44598875bb4",
   "metadata": {},
   "outputs": [],
   "source": []
  },
  {
   "cell_type": "code",
   "execution_count": 196,
   "id": "20f0628e-ac43-4f50-ba88-497203148476",
   "metadata": {},
   "outputs": [],
   "source": [
    "df = pd.concat([df1, df2])"
   ]
  },
  {
   "cell_type": "code",
   "execution_count": 198,
   "id": "adfb6d2f-9a64-48ac-9822-66dd57e69262",
   "metadata": {},
   "outputs": [
    {
     "data": {
      "text/html": [
       "<div>\n",
       "<style scoped>\n",
       "    .dataframe tbody tr th:only-of-type {\n",
       "        vertical-align: middle;\n",
       "    }\n",
       "\n",
       "    .dataframe tbody tr th {\n",
       "        vertical-align: top;\n",
       "    }\n",
       "\n",
       "    .dataframe thead th {\n",
       "        text-align: right;\n",
       "    }\n",
       "</style>\n",
       "<table border=\"1\" class=\"dataframe\">\n",
       "  <thead>\n",
       "    <tr style=\"text-align: right;\">\n",
       "      <th></th>\n",
       "      <th>0</th>\n",
       "      <th>1</th>\n",
       "    </tr>\n",
       "  </thead>\n",
       "  <tbody>\n",
       "    <tr>\n",
       "      <th>const</th>\n",
       "      <td>5.482598</td>\n",
       "      <td>6.201542</td>\n",
       "    </tr>\n",
       "    <tr>\n",
       "      <th>X1</th>\n",
       "      <td>-0.548037</td>\n",
       "      <td>-0.258797</td>\n",
       "    </tr>\n",
       "    <tr>\n",
       "      <th>X2</th>\n",
       "      <td>-0.363139</td>\n",
       "      <td>-0.061068</td>\n",
       "    </tr>\n",
       "    <tr>\n",
       "      <th>X3</th>\n",
       "      <td>-0.481987</td>\n",
       "      <td>-0.163504</td>\n",
       "    </tr>\n",
       "  </tbody>\n",
       "</table>\n",
       "</div>"
      ],
      "text/plain": [
       "              0         1\n",
       "const  5.482598  6.201542\n",
       "X1    -0.548037 -0.258797\n",
       "X2    -0.363139 -0.061068\n",
       "X3    -0.481987 -0.163504"
      ]
     },
     "execution_count": 198,
     "metadata": {},
     "output_type": "execute_result"
    }
   ],
   "source": [
    "X = sm.add_constant(df.iloc[:, 0:3])\n",
    "ols = sm.OLS(df.iloc[:,3], X)\n",
    "ols_result = ols.fit()\n",
    "ols_result.conf_int(alpha=0.05, cols=None)"
   ]
  },
  {
   "cell_type": "code",
   "execution_count": 214,
   "id": "d7a73958-46ba-4aee-8bc4-14f36e26602b",
   "metadata": {},
   "outputs": [
    {
     "data": {
      "text/plain": [
       "const    5.842070\n",
       "X1      -0.403417\n",
       "X2      -0.212103\n",
       "X3      -0.322746\n",
       "dtype: float64"
      ]
     },
     "execution_count": 214,
     "metadata": {},
     "output_type": "execute_result"
    }
   ],
   "source": [
    "ols_result.params"
   ]
  },
  {
   "cell_type": "code",
   "execution_count": 204,
   "id": "036e8cf9-4974-4c94-a501-b4909693447a",
   "metadata": {},
   "outputs": [
    {
     "data": {
      "text/plain": [
       "const    0.359472\n",
       "X1       0.144620\n",
       "X2       0.151035\n",
       "X3       0.159242\n",
       "dtype: float64"
      ]
     },
     "execution_count": 204,
     "metadata": {},
     "output_type": "execute_result"
    }
   ],
   "source": [
    "(ols_result.conf_int(alpha=0.05, cols=None)[1] - ols_result.conf_int(alpha=0.05, cols=None)[0])/2"
   ]
  },
  {
   "cell_type": "code",
   "execution_count": 205,
   "id": "522101c9-0189-47d0-ab11-b8e4ffa87741",
   "metadata": {},
   "outputs": [
    {
     "data": {
      "text/plain": [
       "const    0.182657\n",
       "X1       0.073485\n",
       "X2       0.076745\n",
       "X3       0.080915\n",
       "dtype: float64"
      ]
     },
     "execution_count": 205,
     "metadata": {},
     "output_type": "execute_result"
    }
   ],
   "source": [
    "ols_result.bse"
   ]
  },
  {
   "cell_type": "code",
   "execution_count": 171,
   "id": "cbb89b6e-b3ef-40c0-bd9d-9eedd94ac806",
   "metadata": {},
   "outputs": [],
   "source": [
    "df_coef, df_var = coefs_vars(df)"
   ]
  },
  {
   "cell_type": "code",
   "execution_count": 172,
   "id": "fa532217-3c1c-47b8-bfa1-fa6d1ad968dc",
   "metadata": {},
   "outputs": [
    {
     "data": {
      "text/plain": [
       "const    5.585558\n",
       "X1      -0.025151\n",
       "X2      -0.040094\n",
       "X3      -0.028291\n",
       "dtype: float64"
      ]
     },
     "execution_count": 172,
     "metadata": {},
     "output_type": "execute_result"
    }
   ],
   "source": [
    "df_coef"
   ]
  },
  {
   "cell_type": "code",
   "execution_count": 173,
   "id": "22448da8-85cb-41b2-99a3-6db6ae43ea46",
   "metadata": {},
   "outputs": [
    {
     "data": {
      "image/png": "[encoded data removed]",
      "text/plain": [
       "<Figure size 504x360 with 1 Axes>"
      ]
     },
     "metadata": {
      "needs_background": "light"
     },
     "output_type": "display_data"
    }
   ],
   "source": [
    "#Scatter plot\n",
    "plt.figure(figsize=(7,5))\n",
    "plt.scatter(df.iloc[:,1], df.iloc[:,3])\n",
    "# tt0 = np.linspace(min(df.iloc[:,0]), max(df.iloc[:,0]), n)\n",
    "tt = np.linspace(min(df.iloc[:,1]), max(df.iloc[:,1]), n)\n",
    "# tt2 = np.linspace(min(df.iloc[:,2]), max(df.iloc[:,2]), n)\n",
    "plt.plot(tt, lin_func(tt, df_coef), c='r')\n",
    "#On ajoute les titres des axes\n",
    "plt.xlabel(\"colimn 0\", fontsize = 12)\n",
    "plt.ylabel(\"column 7 predicted by columns 0, 3, 4\", fontsize = 12)\n",
    "plt.title(\"Linear regression\")\n",
    "\n",
    "plt.show()"
   ]
  },
  {
   "cell_type": "code",
   "execution_count": 174,
   "id": "d534ef69-e5a7-4f2b-b185-ff233f69c353",
   "metadata": {},
   "outputs": [],
   "source": [
    "def ampute(df, pat):\n",
    "    pr = prop\n",
    "\n",
    "    ma = MultivariateAmputation(\n",
    "            patterns = pat,\n",
    "            prop = pr\n",
    "        )\n",
    "    X_miss = ma.fit_transform(df)  \n",
    "    return X_miss"
   ]
  },
  {
   "cell_type": "code",
   "execution_count": 175,
   "id": "5c1e4e0f-cddd-4595-9fa9-846a6681af42",
   "metadata": {},
   "outputs": [
    {
     "name": "stderr",
     "output_type": "stream",
     "text": [
      "2022-10-30 15:22:00,236 [WARNING] Indicated weights for vars that are observed for a pattern with MNAR. Did you mean MAR+MNAR?\n"
     ]
    }
   ],
   "source": [
    "prop = 0.5\n",
    "df_miss2 = ampute(df2, pat = [{'incomplete_vars': [0, 2], 'mechanism': \"MNAR\", 'weights': [0, 1, 0, 1]},\n",
    "                           {'incomplete_vars': [1], 'mechanism': \"MNAR\", 'weights': [1, 1, 0, 0]}])"
   ]
  },
  {
   "cell_type": "code",
   "execution_count": 176,
   "id": "c4cd8843-a2be-4c11-863d-ffcc81608ef6",
   "metadata": {},
   "outputs": [
    {
     "data": {
      "text/html": [
       "<div>\n",
       "<style scoped>\n",
       "    .dataframe tbody tr th:only-of-type {\n",
       "        vertical-align: middle;\n",
       "    }\n",
       "\n",
       "    .dataframe tbody tr th {\n",
       "        vertical-align: top;\n",
       "    }\n",
       "\n",
       "    .dataframe thead th {\n",
       "        text-align: right;\n",
       "    }\n",
       "</style>\n",
       "<table border=\"1\" class=\"dataframe\">\n",
       "  <thead>\n",
       "    <tr style=\"text-align: right;\">\n",
       "      <th></th>\n",
       "      <th>X1</th>\n",
       "      <th>X2</th>\n",
       "      <th>X3</th>\n",
       "      <th>Y1</th>\n",
       "    </tr>\n",
       "  </thead>\n",
       "  <tbody>\n",
       "    <tr>\n",
       "      <th>0</th>\n",
       "      <td>2.219643</td>\n",
       "      <td>NaN</td>\n",
       "      <td>-0.607499</td>\n",
       "      <td>7.111731</td>\n",
       "    </tr>\n",
       "    <tr>\n",
       "      <th>1</th>\n",
       "      <td>NaN</td>\n",
       "      <td>3.156817</td>\n",
       "      <td>NaN</td>\n",
       "      <td>5.877580</td>\n",
       "    </tr>\n",
       "    <tr>\n",
       "      <th>2</th>\n",
       "      <td>3.658373</td>\n",
       "      <td>0.522887</td>\n",
       "      <td>-0.072254</td>\n",
       "      <td>5.583156</td>\n",
       "    </tr>\n",
       "    <tr>\n",
       "      <th>3</th>\n",
       "      <td>NaN</td>\n",
       "      <td>2.039964</td>\n",
       "      <td>NaN</td>\n",
       "      <td>7.838615</td>\n",
       "    </tr>\n",
       "    <tr>\n",
       "      <th>4</th>\n",
       "      <td>-0.354530</td>\n",
       "      <td>2.030985</td>\n",
       "      <td>3.252697</td>\n",
       "      <td>4.526536</td>\n",
       "    </tr>\n",
       "    <tr>\n",
       "      <th>...</th>\n",
       "      <td>...</td>\n",
       "      <td>...</td>\n",
       "      <td>...</td>\n",
       "      <td>...</td>\n",
       "    </tr>\n",
       "    <tr>\n",
       "      <th>145</th>\n",
       "      <td>1.075116</td>\n",
       "      <td>1.802958</td>\n",
       "      <td>-0.655966</td>\n",
       "      <td>3.258526</td>\n",
       "    </tr>\n",
       "    <tr>\n",
       "      <th>146</th>\n",
       "      <td>0.148859</td>\n",
       "      <td>2.327851</td>\n",
       "      <td>0.931443</td>\n",
       "      <td>5.612521</td>\n",
       "    </tr>\n",
       "    <tr>\n",
       "      <th>147</th>\n",
       "      <td>0.269359</td>\n",
       "      <td>-0.187199</td>\n",
       "      <td>1.180276</td>\n",
       "      <td>5.486907</td>\n",
       "    </tr>\n",
       "    <tr>\n",
       "      <th>148</th>\n",
       "      <td>-1.626208</td>\n",
       "      <td>2.073882</td>\n",
       "      <td>0.327239</td>\n",
       "      <td>6.694866</td>\n",
       "    </tr>\n",
       "    <tr>\n",
       "      <th>149</th>\n",
       "      <td>-1.100803</td>\n",
       "      <td>1.303595</td>\n",
       "      <td>0.102755</td>\n",
       "      <td>5.496565</td>\n",
       "    </tr>\n",
       "  </tbody>\n",
       "</table>\n",
       "<p>150 rows × 4 columns</p>\n",
       "</div>"
      ],
      "text/plain": [
       "           X1        X2        X3        Y1\n",
       "0    2.219643       NaN -0.607499  7.111731\n",
       "1         NaN  3.156817       NaN  5.877580\n",
       "2    3.658373  0.522887 -0.072254  5.583156\n",
       "3         NaN  2.039964       NaN  7.838615\n",
       "4   -0.354530  2.030985  3.252697  4.526536\n",
       "..        ...       ...       ...       ...\n",
       "145  1.075116  1.802958 -0.655966  3.258526\n",
       "146  0.148859  2.327851  0.931443  5.612521\n",
       "147  0.269359 -0.187199  1.180276  5.486907\n",
       "148 -1.626208  2.073882  0.327239  6.694866\n",
       "149 -1.100803  1.303595  0.102755  5.496565\n",
       "\n",
       "[150 rows x 4 columns]"
      ]
     },
     "execution_count": 176,
     "metadata": {},
     "output_type": "execute_result"
    }
   ],
   "source": [
    "df_miss2"
   ]
  },
  {
   "cell_type": "code",
   "execution_count": 177,
   "id": "8850efca-2963-483a-900f-a2717d5ff724",
   "metadata": {},
   "outputs": [
    {
     "data": {
      "text/html": [
       "<div>\n",
       "<style scoped>\n",
       "    .dataframe tbody tr th:only-of-type {\n",
       "        vertical-align: middle;\n",
       "    }\n",
       "\n",
       "    .dataframe tbody tr th {\n",
       "        vertical-align: top;\n",
       "    }\n",
       "\n",
       "    .dataframe thead th {\n",
       "        text-align: right;\n",
       "    }\n",
       "</style>\n",
       "<table border=\"1\" class=\"dataframe\">\n",
       "  <thead>\n",
       "    <tr style=\"text-align: right;\">\n",
       "      <th></th>\n",
       "      <th>X1</th>\n",
       "      <th>X2</th>\n",
       "      <th>X3</th>\n",
       "      <th>Y1</th>\n",
       "    </tr>\n",
       "  </thead>\n",
       "  <tbody>\n",
       "    <tr>\n",
       "      <th>2</th>\n",
       "      <td>3.658373</td>\n",
       "      <td>0.522887</td>\n",
       "      <td>-0.072254</td>\n",
       "      <td>5.583156</td>\n",
       "    </tr>\n",
       "    <tr>\n",
       "      <th>4</th>\n",
       "      <td>-0.354530</td>\n",
       "      <td>2.030985</td>\n",
       "      <td>3.252697</td>\n",
       "      <td>4.526536</td>\n",
       "    </tr>\n",
       "    <tr>\n",
       "      <th>6</th>\n",
       "      <td>1.824276</td>\n",
       "      <td>0.152259</td>\n",
       "      <td>0.297261</td>\n",
       "      <td>5.636830</td>\n",
       "    </tr>\n",
       "    <tr>\n",
       "      <th>9</th>\n",
       "      <td>2.531052</td>\n",
       "      <td>-1.433017</td>\n",
       "      <td>-1.183174</td>\n",
       "      <td>7.739709</td>\n",
       "    </tr>\n",
       "    <tr>\n",
       "      <th>10</th>\n",
       "      <td>0.110089</td>\n",
       "      <td>-1.690819</td>\n",
       "      <td>2.470548</td>\n",
       "      <td>5.388273</td>\n",
       "    </tr>\n",
       "    <tr>\n",
       "      <th>...</th>\n",
       "      <td>...</td>\n",
       "      <td>...</td>\n",
       "      <td>...</td>\n",
       "      <td>...</td>\n",
       "    </tr>\n",
       "    <tr>\n",
       "      <th>145</th>\n",
       "      <td>1.075116</td>\n",
       "      <td>1.802958</td>\n",
       "      <td>-0.655966</td>\n",
       "      <td>3.258526</td>\n",
       "    </tr>\n",
       "    <tr>\n",
       "      <th>146</th>\n",
       "      <td>0.148859</td>\n",
       "      <td>2.327851</td>\n",
       "      <td>0.931443</td>\n",
       "      <td>5.612521</td>\n",
       "    </tr>\n",
       "    <tr>\n",
       "      <th>147</th>\n",
       "      <td>0.269359</td>\n",
       "      <td>-0.187199</td>\n",
       "      <td>1.180276</td>\n",
       "      <td>5.486907</td>\n",
       "    </tr>\n",
       "    <tr>\n",
       "      <th>148</th>\n",
       "      <td>-1.626208</td>\n",
       "      <td>2.073882</td>\n",
       "      <td>0.327239</td>\n",
       "      <td>6.694866</td>\n",
       "    </tr>\n",
       "    <tr>\n",
       "      <th>149</th>\n",
       "      <td>-1.100803</td>\n",
       "      <td>1.303595</td>\n",
       "      <td>0.102755</td>\n",
       "      <td>5.496565</td>\n",
       "    </tr>\n",
       "  </tbody>\n",
       "</table>\n",
       "<p>83 rows × 4 columns</p>\n",
       "</div>"
      ],
      "text/plain": [
       "           X1        X2        X3        Y1\n",
       "2    3.658373  0.522887 -0.072254  5.583156\n",
       "4   -0.354530  2.030985  3.252697  4.526536\n",
       "6    1.824276  0.152259  0.297261  5.636830\n",
       "9    2.531052 -1.433017 -1.183174  7.739709\n",
       "10   0.110089 -1.690819  2.470548  5.388273\n",
       "..        ...       ...       ...       ...\n",
       "145  1.075116  1.802958 -0.655966  3.258526\n",
       "146  0.148859  2.327851  0.931443  5.612521\n",
       "147  0.269359 -0.187199  1.180276  5.486907\n",
       "148 -1.626208  2.073882  0.327239  6.694866\n",
       "149 -1.100803  1.303595  0.102755  5.496565\n",
       "\n",
       "[83 rows x 4 columns]"
      ]
     },
     "execution_count": 177,
     "metadata": {},
     "output_type": "execute_result"
    }
   ],
   "source": [
    "df_CC2 = df_miss2.copy()\n",
    "df_CC2.dropna(axis=0, how='any', thresh=None, subset=None, inplace=True)\n",
    "df_CC2"
   ]
  },
  {
   "cell_type": "code",
   "execution_count": 178,
   "id": "1f8dd189-60ff-4a3d-87c1-e49e1c23321f",
   "metadata": {},
   "outputs": [],
   "source": [
    "df_CC0 = pd.concat([df1, df_CC2])"
   ]
  },
  {
   "cell_type": "code",
   "execution_count": 179,
   "id": "a4f9bcaa-506a-441f-a406-5ca5c478d8ac",
   "metadata": {},
   "outputs": [],
   "source": [
    "df_CC_coef, df_CC_var = coefs_vars(df_CC0)"
   ]
  },
  {
   "cell_type": "code",
   "execution_count": 180,
   "id": "2197dbeb-6273-4f1f-9246-0332a9e94fad",
   "metadata": {},
   "outputs": [
    {
     "data": {
      "text/plain": [
       "const    5.585558\n",
       "X1      -0.025151\n",
       "X2      -0.040094\n",
       "X3      -0.028291\n",
       "dtype: float64"
      ]
     },
     "execution_count": 180,
     "metadata": {},
     "output_type": "execute_result"
    }
   ],
   "source": [
    "df_coef"
   ]
  },
  {
   "cell_type": "code",
   "execution_count": 181,
   "id": "eaea5416-f190-490e-8966-9ea3f5536d4e",
   "metadata": {},
   "outputs": [
    {
     "data": {
      "text/plain": [
       "const    5.248594\n",
       "X1      -0.013522\n",
       "X2      -0.063599\n",
       "X3       0.064362\n",
       "dtype: float64"
      ]
     },
     "execution_count": 181,
     "metadata": {},
     "output_type": "execute_result"
    }
   ],
   "source": [
    "df_CC_coef"
   ]
  },
  {
   "cell_type": "code",
   "execution_count": 182,
   "id": "d82c7177-9109-4209-9d61-d8705b890714",
   "metadata": {},
   "outputs": [
    {
     "data": {
      "image/png": "[encoded data removed]",
      "text/plain": [
       "<Figure size 504x360 with 1 Axes>"
      ]
     },
     "metadata": {
      "needs_background": "light"
     },
     "output_type": "display_data"
    }
   ],
   "source": [
    "#Scatter plot\n",
    "plt.figure(figsize=(7,5))\n",
    "plt.scatter(df.iloc[:,2], df.iloc[:,3])\n",
    "plt.scatter(df_CC0.iloc[:,2], df_CC0.iloc[:,3])\n",
    "# tt0 = np.linspace(min(df.iloc[:,0]), max(df.iloc[:,0]), n)\n",
    "tt = np.linspace(min(df.iloc[:,1]), max(df.iloc[:,1]), n)\n",
    "# tt2 = np.linspace(min(df.iloc[:,2]), max(df.iloc[:,2]), n)\n",
    "plt.plot(tt, lin_func(tt, df_coef), c='r')\n",
    "plt.plot(tt, lin_func(tt, df_CC_coef), c='r')\n",
    "\n",
    "#On ajoute les titres des axes\n",
    "plt.xlabel(\"colimn 0\", fontsize = 12)\n",
    "plt.ylabel(\"column 7 predicted by columns 0, 3, 4\", fontsize = 12)\n",
    "plt.title(\"Linear regression\")\n",
    "\n",
    "plt.show()"
   ]
  },
  {
   "cell_type": "code",
   "execution_count": 183,
   "id": "0c87ebad-a5cc-434a-a631-bda2b954be92",
   "metadata": {},
   "outputs": [],
   "source": [
    "# #Scatter plot\n",
    "# plt.figure(figsize=(7,5))\n",
    "# plt.scatter(df.iloc[:,2], df.iloc[:,3])\n",
    "# plt.scatter(df_CC0.iloc[:,2], df_CC0.iloc[:,3])\n",
    "\n",
    "# tt0 = np.linspace(min(df_CC0.iloc[:,0]), max(df_CC0.iloc[:,0]), 1000)\n",
    "# tt1 = np.linspace(min(df_CC0.iloc[:,1]), max(df_CC0.iloc[:,1]), 1000)\n",
    "# tt2 = np.linspace(min(df_CC0.iloc[:,2]), max(df_CC0.iloc[:,2]), 1000)\n",
    "# plt.plot(tt0, df_coef[0] * tt0 + df_coef[1] * tt1 + df_coef[2] * tt2, c='r')\n",
    "# plt.plot(tt0, df_CC_coef[0] * tt0 + df_CC_coef[1] * tt1 + df_CC_coef[2] * tt2, c='r')\n",
    "# #On ajoute les titres des axes\n",
    "# plt.xlabel(\"colimn 0\", fontsize = 12)\n",
    "# plt.ylabel(\"column 7 predicted by columns 0, 3, 4\", fontsize = 12)\n",
    "# plt.title(\"Linear regression\")\n",
    "\n",
    "# plt.show()"
   ]
  },
  {
   "cell_type": "code",
   "execution_count": 184,
   "id": "424ed93c-b57c-442b-9a7a-166779aec7c2",
   "metadata": {},
   "outputs": [],
   "source": [
    "df_misss = pd.concat([df1, df_miss2])"
   ]
  },
  {
   "cell_type": "code",
   "execution_count": 185,
   "id": "edc12f42-e34f-4d8f-87d4-4e392730e958",
   "metadata": {},
   "outputs": [],
   "source": [
    "imp_mi = mice(df_misss)\n",
    "mice_df = np.array(imp_mi).mean(axis=0)\n",
    "mice_df = pd.DataFrame(mice_df)\n",
    "mi_coef, mi_vars = pooling(imp_mi)"
   ]
  },
  {
   "cell_type": "code",
   "execution_count": 213,
   "id": "9357126a-0654-4f70-80a7-6e2ad7f27cdf",
   "metadata": {},
   "outputs": [
    {
     "data": {
      "text/plain": [
       "300"
      ]
     },
     "execution_count": 213,
     "metadata": {},
     "output_type": "execute_result"
    }
   ],
   "source": [
    "imp_mi[0].shape[0]"
   ]
  },
  {
   "cell_type": "code",
   "execution_count": 186,
   "id": "dcc88ee1-c9d8-4fe2-addd-3e05633d9c4b",
   "metadata": {},
   "outputs": [
    {
     "data": {
      "text/html": [
       "<div>\n",
       "<style scoped>\n",
       "    .dataframe tbody tr th:only-of-type {\n",
       "        vertical-align: middle;\n",
       "    }\n",
       "\n",
       "    .dataframe tbody tr th {\n",
       "        vertical-align: top;\n",
       "    }\n",
       "\n",
       "    .dataframe thead th {\n",
       "        text-align: right;\n",
       "    }\n",
       "</style>\n",
       "<table border=\"1\" class=\"dataframe\">\n",
       "  <thead>\n",
       "    <tr style=\"text-align: right;\">\n",
       "      <th></th>\n",
       "      <th>0</th>\n",
       "      <th>1</th>\n",
       "      <th>2</th>\n",
       "      <th>3</th>\n",
       "    </tr>\n",
       "  </thead>\n",
       "  <tbody>\n",
       "    <tr>\n",
       "      <th>0</th>\n",
       "      <td>2.575850</td>\n",
       "      <td>3.757042</td>\n",
       "      <td>2.789331</td>\n",
       "      <td>3.806449</td>\n",
       "    </tr>\n",
       "    <tr>\n",
       "      <th>1</th>\n",
       "      <td>2.202036</td>\n",
       "      <td>3.091276</td>\n",
       "      <td>2.881108</td>\n",
       "      <td>4.476132</td>\n",
       "    </tr>\n",
       "    <tr>\n",
       "      <th>2</th>\n",
       "      <td>1.199214</td>\n",
       "      <td>1.522316</td>\n",
       "      <td>1.114920</td>\n",
       "      <td>4.731153</td>\n",
       "    </tr>\n",
       "    <tr>\n",
       "      <th>3</th>\n",
       "      <td>1.239792</td>\n",
       "      <td>3.157415</td>\n",
       "      <td>2.689602</td>\n",
       "      <td>4.246505</td>\n",
       "    </tr>\n",
       "    <tr>\n",
       "      <th>4</th>\n",
       "      <td>3.953090</td>\n",
       "      <td>4.373604</td>\n",
       "      <td>3.466819</td>\n",
       "      <td>5.205462</td>\n",
       "    </tr>\n",
       "    <tr>\n",
       "      <th>...</th>\n",
       "      <td>...</td>\n",
       "      <td>...</td>\n",
       "      <td>...</td>\n",
       "      <td>...</td>\n",
       "    </tr>\n",
       "    <tr>\n",
       "      <th>295</th>\n",
       "      <td>1.075116</td>\n",
       "      <td>1.802958</td>\n",
       "      <td>-0.655966</td>\n",
       "      <td>3.258526</td>\n",
       "    </tr>\n",
       "    <tr>\n",
       "      <th>296</th>\n",
       "      <td>0.148859</td>\n",
       "      <td>2.327851</td>\n",
       "      <td>0.931443</td>\n",
       "      <td>5.612521</td>\n",
       "    </tr>\n",
       "    <tr>\n",
       "      <th>297</th>\n",
       "      <td>0.269359</td>\n",
       "      <td>-0.187199</td>\n",
       "      <td>1.180276</td>\n",
       "      <td>5.486907</td>\n",
       "    </tr>\n",
       "    <tr>\n",
       "      <th>298</th>\n",
       "      <td>-1.626208</td>\n",
       "      <td>2.073882</td>\n",
       "      <td>0.327239</td>\n",
       "      <td>6.694866</td>\n",
       "    </tr>\n",
       "    <tr>\n",
       "      <th>299</th>\n",
       "      <td>-1.100803</td>\n",
       "      <td>1.303595</td>\n",
       "      <td>0.102755</td>\n",
       "      <td>5.496565</td>\n",
       "    </tr>\n",
       "  </tbody>\n",
       "</table>\n",
       "<p>300 rows × 4 columns</p>\n",
       "</div>"
      ],
      "text/plain": [
       "            0         1         2         3\n",
       "0    2.575850  3.757042  2.789331  3.806449\n",
       "1    2.202036  3.091276  2.881108  4.476132\n",
       "2    1.199214  1.522316  1.114920  4.731153\n",
       "3    1.239792  3.157415  2.689602  4.246505\n",
       "4    3.953090  4.373604  3.466819  5.205462\n",
       "..        ...       ...       ...       ...\n",
       "295  1.075116  1.802958 -0.655966  3.258526\n",
       "296  0.148859  2.327851  0.931443  5.612521\n",
       "297  0.269359 -0.187199  1.180276  5.486907\n",
       "298 -1.626208  2.073882  0.327239  6.694866\n",
       "299 -1.100803  1.303595  0.102755  5.496565\n",
       "\n",
       "[300 rows x 4 columns]"
      ]
     },
     "execution_count": 186,
     "metadata": {},
     "output_type": "execute_result"
    }
   ],
   "source": [
    "mice_df"
   ]
  },
  {
   "cell_type": "code",
   "execution_count": 187,
   "id": "b4696fc8-6265-45eb-9929-829edc87e52a",
   "metadata": {
    "tags": []
   },
   "outputs": [
    {
     "data": {
      "image/png": "[encoded data removed]",
      "text/plain": [
       "<Figure size 504x360 with 1 Axes>"
      ]
     },
     "metadata": {
      "needs_background": "light"
     },
     "output_type": "display_data"
    }
   ],
   "source": [
    "#Scatter plot\n",
    "plt.figure(figsize=(7,5))\n",
    "plt.scatter(df.iloc[:,2], df.iloc[:,3])\n",
    "plt.scatter(mice_df.iloc[:,2], mice_df.iloc[:,3])\n",
    "tt = np.linspace(min(df.iloc[:,1]), max(df.iloc[:,1]), n)\n",
    "plt.plot(tt, lin_func(tt, df_coef), c='r')\n",
    "plt.plot(tt, lin_func(tt, mi_coef), c='r')\n",
    "# plt.plot(tt0, mi_coef[0] * tt0 + mi_coef[1] * tt1 + mi_coef[2] * tt2, c='r')\n",
    "#On ajoute les titres des axes\n",
    "plt.xlabel(\"colimn 0\", fontsize = 12)\n",
    "plt.ylabel(\"column 7 predicted by columns 0, 3, 4\", fontsize = 12)\n",
    "plt.title(\"Linear regression\")\n",
    "\n",
    "plt.show()"
   ]
  },
  {
   "cell_type": "code",
   "execution_count": 194,
   "id": "a4ef1f1e-0949-4a36-8e50-4aa21fe0d60c",
   "metadata": {},
   "outputs": [
    {
     "data": {
      "image/png": "[encoded data removed]",
      "text/plain": [
       "<Figure size 720x864 with 3 Axes>"
      ]
     },
     "metadata": {
      "needs_background": "light"
     },
     "output_type": "display_data"
    }
   ],
   "source": [
    "plott(df_coef, df_var, df_CC_coef, df_CC_var, mi_coef, mi_vars)"
   ]
  },
  {
   "cell_type": "code",
   "execution_count": 189,
   "id": "c6d25018-7537-4fc3-bc93-7251f883a1e2",
   "metadata": {},
   "outputs": [],
   "source": [
    "def mice(X_miss):\n",
    "    n_imputations = 10\n",
    "    imp_mice = []\n",
    "\n",
    "    for i in range(n_imputations):\n",
    "        imp = IterativeImputer(max_iter = 50, random_state = i, sample_posterior = True, estimator = BayesianRidge()).fit_transform(X_miss)\n",
    "        imp = pd.DataFrame(imp)\n",
    "        imp_mice.append(imp)\n",
    "        \n",
    "    \n",
    "    return imp_mice"
   ]
  },
  {
   "cell_type": "code",
   "execution_count": 32,
   "id": "0d123a12-51c8-4599-884f-9773efaa2935",
   "metadata": {},
   "outputs": [],
   "source": [
    "def pooling(imp_mice):\n",
    "    m_coefs = []\n",
    "    m_vars = []\n",
    "    \n",
    "    for imp in imp_mice:\n",
    "        \n",
    "        mice_coefs, mice_vars = coefs_vars(pd.DataFrame(imp))\n",
    "\n",
    "        m_coefs.append(mice_coefs)\n",
    "        m_vars.append(mice_vars)\n",
    "\n",
    "    m_coefs = np.array(m_coefs)\n",
    "    m_vars = np.array(m_vars)\n",
    "    \n",
    "    \n",
    "    mice_means = rubins_pooling_rules(m_coefs, m_vars)[0]\n",
    "    mice_varis = rubins_pooling_rules(m_coefs, m_vars)[1]\n",
    "    return mice_means, mice_varis"
   ]
  },
  {
   "cell_type": "code",
   "execution_count": 193,
   "id": "c7bcceee-ae9c-4707-a619-eb97c355aeb9",
   "metadata": {},
   "outputs": [],
   "source": [
    "def plott(df_coefs, df_vars, CC_coef, CC_vars, mice_coef, mice_vars):\n",
    "    fig, ax = plt.subplots(3, 1, figsize=(10, 12), sharex=True)\n",
    "\n",
    "    ax[0].bar(x= ['bias', 'X1', 'X2', 'X3'], \n",
    "           height= df_coefs, \n",
    "           width=0.6, \n",
    "           yerr = np.sqrt(df_vars), \n",
    "           alpha=1,  \n",
    "           edgecolor='black')\n",
    "    ax[0].set_title(\"Original df's coefficeints of the linear regression and their variances\")\n",
    "\n",
    "    ax[1].bar(x= ['bias', 'X1', 'X2', 'X3'], \n",
    "           height= CC_coef, \n",
    "           width=0.6, \n",
    "           yerr = np.sqrt(CC_vars), \n",
    "           alpha=1,  \n",
    "           edgecolor='black')\n",
    "    ax[1].set_title(\"df w/ CC coefficeints of the linear regression and their variances\")\n",
    "\n",
    "    ax[2].bar(x= ['bias', 'X1', 'X2', 'X3'], \n",
    "           height= mice_coef, \n",
    "           width=0.6, \n",
    "           yerr = np.sqrt(mice_vars), \n",
    "           alpha=1,  \n",
    "           edgecolor='black')\n",
    "    ax[2].set_title(\"df w/ MICE coefficeints of the linear regression and their variances pooled\")\n",
    "    \n",
    "    {ax_i.set_ylim(-1,1) for ax_i in ax}"
   ]
  },
  {
   "cell_type": "code",
   "execution_count": 773,
   "id": "fee0d98a-d6d1-4f67-aa00-ff3e0031cc21",
   "metadata": {},
   "outputs": [],
   "source": [
    "def coeff(pat):\n",
    "    df_cont = dataset()\n",
    "    \n",
    "    df_coefs, df_vars = coefs_vars(df_cont)\n",
    "\n",
    "    X_miss = ampute(df_cont, pat)\n",
    "    \n",
    "    df_CC = X_miss.copy()\n",
    "    df_CC.dropna(axis=0, how='any', thresh=None, subset=None, inplace=True)\n",
    "    CC_coef, CC_vars = coefs_vars(df_CC)\n",
    "    \n",
    "    imp_mice = mice(X_miss)\n",
    "    mice_coef, mice_vars = pooling(imp_mice)\n",
    "\n",
    "    plott(df_coefs, df_vars, CC_coef, CC_vars, mice_coef, mice_vars)"
   ]
  },
  {
   "cell_type": "code",
   "execution_count": null,
   "id": "94f4d11b-f636-4c04-9a48-3282d5822580",
   "metadata": {},
   "outputs": [],
   "source": []
  },
  {
   "cell_type": "code",
   "execution_count": null,
   "id": "4e2ba0e0-d5fc-4eb0-9c66-c54ae15d2029",
   "metadata": {},
   "outputs": [],
   "source": []
  },
  {
   "cell_type": "markdown",
   "id": "912c204a-ea23-4393-a17e-09c7ff13ed2d",
   "metadata": {},
   "source": [
    "## MAR [0,1]; [1,2]"
   ]
  },
  {
   "cell_type": "markdown",
   "id": "0ab3df9e-dc99-4643-bcce-2cce04e75e28",
   "metadata": {},
   "source": [
    "### pr = 0.2"
   ]
  },
  {
   "cell_type": "code",
   "execution_count": 43,
   "id": "e87fab26-7f09-46b9-8060-6a051deccac6",
   "metadata": {},
   "outputs": [
    {
     "data": {
      "image/png": "[encoded data removed]",
      "text/plain": [
       "<Figure size 720x864 with 3 Axes>"
      ]
     },
     "metadata": {
      "needs_background": "light"
     },
     "output_type": "display_data"
    }
   ],
   "source": [
    "prop = 0.2\n",
    "coeff(pat = [{'incomplete_vars': [2], 'mechanism': \"MNAR\"}])"
   ]
  },
  {
   "cell_type": "code",
   "execution_count": null,
   "id": "db8b07a5-373b-47bb-bf71-50a1e84595ef",
   "metadata": {},
   "outputs": [],
   "source": []
  },
  {
   "cell_type": "code",
   "execution_count": null,
   "id": "26205476-64d0-40a8-a04f-f24b26a41c00",
   "metadata": {},
   "outputs": [],
   "source": []
  },
  {
   "cell_type": "code",
   "execution_count": null,
   "id": "7e4d77c9-1fe9-4bf5-bc48-0f7c1ecb166f",
   "metadata": {},
   "outputs": [],
   "source": [
    "# #Scatter plot\n",
    "# plt.figure(figsize=(7,5))\n",
    "# plt.scatter(df.iloc[:,1], df.iloc[:,3])\n",
    "# tt0 = np.linspace(min(df.iloc[:,0]), max(df.iloc[:,0]), n)\n",
    "# tt1 = np.linspace(min(df.iloc[:,1]), max(df.iloc[:,1]), n)\n",
    "# tt2 = np.linspace(min(df.iloc[:,2]), max(df.iloc[:,2]), n)\n",
    "# plt.plot(tt0, df_coef[0] * tt0 + df_coef[1] * tt1 + df_coef[2] * tt2, c='r')\n",
    "# #On ajoute les titres des axes\n",
    "# plt.xlabel(\"colimn 0\", fontsize = 12)\n",
    "# plt.ylabel(\"column 7 predicted by columns 0, 3, 4\", fontsize = 12)\n",
    "# plt.title(\"Linear regression\")\n",
    "\n",
    "# plt.show()"
   ]
  }
 ],
 "metadata": {
  "kernelspec": {
   "display_name": "mice",
   "language": "python",
   "name": "mice"
  },
  "language_info": {
   "codemirror_mode": {
    "name": "ipython",
    "version": 3
   },
   "file_extension": ".py",
   "mimetype": "text/x-python",
   "name": "python",
   "nbconvert_exporter": "python",
   "pygments_lexer": "ipython3",
   "version": "3.9.12"
  }
 },
 "nbformat": 4,
 "nbformat_minor": 5
}
