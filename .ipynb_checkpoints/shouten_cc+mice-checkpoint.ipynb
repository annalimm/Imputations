{
 "cells": [
  {
   "cell_type": "markdown",
   "id": "04396570-ae91-4ee5-bab0-cf6b855e430d",
   "metadata": {},
   "source": [
    "# Shouten article plots"
   ]
  },
  {
   "cell_type": "code",
   "execution_count": 12,
   "id": "250b6d79-c582-493a-ae71-ee23bedd3a13",
   "metadata": {},
   "outputs": [],
   "source": [
    "import numpy as np\n",
    "import pandas as pd\n",
    "import pyampute\n",
    "from pyampute.ampute import MultivariateAmputation\n",
    "from sklearn.experimental import enable_iterative_imputer\n",
    "from sklearn.impute import SimpleImputer, IterativeImputer\n",
    "from sklearn.linear_model import BayesianRidge\n",
    "import os\n",
    "import matplotlib.pyplot as plt"
   ]
  },
  {
   "cell_type": "markdown",
   "id": "1c74b79b-e760-4b7b-90da-65931dd32942",
   "metadata": {},
   "source": [
    "## Data generation "
   ]
  },
  {
   "cell_type": "code",
   "execution_count": 13,
   "id": "af90fd0b-812f-4b3c-bc45-6377af7c93a2",
   "metadata": {},
   "outputs": [],
   "source": [
    "def data_gener(n, ro):\n",
    "    #continious data\n",
    "    mu = np.array([5, 5, 10])\n",
    "    Sigma = np.array([[1, ro, ro], [ro, 1, ro], [ro, ro, 1]])\n",
    "    X_cont = np.random.multivariate_normal(mu, Sigma, size = n)\n",
    "    #X_cont = pd.DataFrame(X_con, columns = ['Y1','Y2','X1'])\n",
    "    #X_cont = pd.DataFrame(X_cont)\n",
    "\n",
    "\n",
    "#     #discrete data\n",
    "#     from scipy.stats import poisson\n",
    "\n",
    "#     lamb = 0.5\n",
    "#     X_discr = poisson.rvs(lamb, size = n)\n",
    "#     X_discr = np.expand_dims(X_discr, axis = 1)\n",
    "\n",
    "#     #categorical data\n",
    "#     n_cat = 5\n",
    "#     X_cat = np.random.binomial(n = n_cat, p = 0.5, size = n)\n",
    "#     X_cat = np.expand_dims(X_cat, axis = 1)\n",
    "\n",
    "#     #all together\n",
    "#     X_complete = np.concatenate((X_cont, X_discr, X_cat), axis = 1)\n",
    "\n",
    "#     #X_complete = pd.DataFrame(X_complete)\n",
    "#     #X_complete.iloc[:, 3] = X_complete.iloc[:, 3].astype('category')\n",
    "#     #X_complete.iloc[:, 3].cat.categories = [0, 1, 2, 3, 4, 5]\n",
    "    #X_complete.head()\n",
    "    return X_cont"
   ]
  },
  {
   "cell_type": "code",
   "execution_count": null,
   "id": "02d1c0df-5e48-4e42-98e6-c962fcfba0eb",
   "metadata": {},
   "outputs": [],
   "source": []
  },
  {
   "cell_type": "code",
   "execution_count": null,
   "id": "6794cf62-4e36-4dce-a220-9117f4985764",
   "metadata": {},
   "outputs": [],
   "source": []
  },
  {
   "cell_type": "markdown",
   "id": "77f8f42c-42a9-4626-af66-8d7d7dd1571a",
   "metadata": {},
   "source": [
    "## CC"
   ]
  },
  {
   "cell_type": "code",
   "execution_count": 14,
   "id": "0b42ae63-38ea-446c-a20e-7c14cb214e01",
   "metadata": {},
   "outputs": [
    {
     "data": {
      "text/html": [
       "<div>\n",
       "<style scoped>\n",
       "    .dataframe tbody tr th:only-of-type {\n",
       "        vertical-align: middle;\n",
       "    }\n",
       "\n",
       "    .dataframe tbody tr th {\n",
       "        vertical-align: top;\n",
       "    }\n",
       "\n",
       "    .dataframe thead th {\n",
       "        text-align: right;\n",
       "    }\n",
       "</style>\n",
       "<table border=\"1\" class=\"dataframe\">\n",
       "  <thead>\n",
       "    <tr style=\"text-align: right;\">\n",
       "      <th></th>\n",
       "      <th>full</th>\n",
       "      <th>MCAR</th>\n",
       "      <th>MAR</th>\n",
       "      <th>MNAR</th>\n",
       "    </tr>\n",
       "  </thead>\n",
       "  <tbody>\n",
       "    <tr>\n",
       "      <th>1.0</th>\n",
       "      <td>0.0</td>\n",
       "      <td>0.000209</td>\n",
       "      <td>-0.017433</td>\n",
       "      <td>-0.174037</td>\n",
       "    </tr>\n",
       "    <tr>\n",
       "      <th>2.0</th>\n",
       "      <td>0.0</td>\n",
       "      <td>-0.000969</td>\n",
       "      <td>-0.035571</td>\n",
       "      <td>-0.172617</td>\n",
       "    </tr>\n",
       "    <tr>\n",
       "      <th>3.0</th>\n",
       "      <td>0.0</td>\n",
       "      <td>-0.001757</td>\n",
       "      <td>-0.05377</td>\n",
       "      <td>-0.173645</td>\n",
       "    </tr>\n",
       "    <tr>\n",
       "      <th>4.0</th>\n",
       "      <td>0.0</td>\n",
       "      <td>-0.002969</td>\n",
       "      <td>-0.06537</td>\n",
       "      <td>-0.173492</td>\n",
       "    </tr>\n",
       "    <tr>\n",
       "      <th>5.0</th>\n",
       "      <td>0.0</td>\n",
       "      <td>-0.002766</td>\n",
       "      <td>-0.08543</td>\n",
       "      <td>-0.174681</td>\n",
       "    </tr>\n",
       "    <tr>\n",
       "      <th>6.0</th>\n",
       "      <td>0.0</td>\n",
       "      <td>-0.000978</td>\n",
       "      <td>-0.103502</td>\n",
       "      <td>-0.17481</td>\n",
       "    </tr>\n",
       "    <tr>\n",
       "      <th>7.0</th>\n",
       "      <td>0.0</td>\n",
       "      <td>0.001496</td>\n",
       "      <td>-0.122523</td>\n",
       "      <td>-0.174597</td>\n",
       "    </tr>\n",
       "    <tr>\n",
       "      <th>8.0</th>\n",
       "      <td>0.0</td>\n",
       "      <td>-0.000034</td>\n",
       "      <td>-0.136808</td>\n",
       "      <td>-0.174722</td>\n",
       "    </tr>\n",
       "    <tr>\n",
       "      <th>9.0</th>\n",
       "      <td>0.0</td>\n",
       "      <td>0.000393</td>\n",
       "      <td>-0.158655</td>\n",
       "      <td>-0.171117</td>\n",
       "    </tr>\n",
       "  </tbody>\n",
       "</table>\n",
       "</div>"
      ],
      "text/plain": [
       "    full      MCAR       MAR      MNAR\n",
       "1.0  0.0  0.000209 -0.017433 -0.174037\n",
       "2.0  0.0 -0.000969 -0.035571 -0.172617\n",
       "3.0  0.0 -0.001757  -0.05377 -0.173645\n",
       "4.0  0.0 -0.002969  -0.06537 -0.173492\n",
       "5.0  0.0 -0.002766  -0.08543 -0.174681\n",
       "6.0  0.0 -0.000978 -0.103502  -0.17481\n",
       "7.0  0.0  0.001496 -0.122523 -0.174597\n",
       "8.0  0.0 -0.000034 -0.136808 -0.174722\n",
       "9.0  0.0  0.000393 -0.158655 -0.171117"
      ]
     },
     "execution_count": 14,
     "metadata": {},
     "output_type": "execute_result"
    }
   ],
   "source": [
    "propor = 0.2\n",
    "corrs = np.arange(0.1, 1, 0.1)\n",
    "\n",
    "df_bias_cc = pd.DataFrame(columns = ['full', 'MCAR', 'MAR', 'MNAR'])\n",
    "\n",
    "for cor in corrs:\n",
    "    \n",
    "    n = 0\n",
    "    df_means = pd.DataFrame(columns = ['mean_full', 'mean_MCAR', 'mean_MAR', 'mean_MNAR'])\n",
    "\n",
    "    for n in np.arange(100):\n",
    "\n",
    "        X_full = data_gener(1000, cor)\n",
    "        df_means.loc[n, 'mean_full'] = X_full[:,0].mean() \n",
    "\n",
    "        #___MCAR________\n",
    "        \n",
    "        ma = MultivariateAmputation(\n",
    "            patterns = [ {'incomplete_vars': [0,1], 'mechanism': \"MCAR\"} ],\n",
    "            prop = propor\n",
    "        )\n",
    "        X_miss = ma.fit_transform(X_full)\n",
    "\n",
    "        X_m = pd.DataFrame(X_miss, columns = ['Y1','Y2','X1'])\n",
    "        cc = X_m.dropna()\n",
    "        df_means.loc[n, 'mean_MCAR'] = cc['Y1'].mean() \n",
    "\n",
    "\n",
    "        #___MAR________\n",
    "        \n",
    "        ma = MultivariateAmputation(\n",
    "            patterns = [ {'incomplete_vars': [0,1], 'weights': [0,0,1], 'mechanism': \"MAR\"} ],\n",
    "            prop = propor\n",
    "        )\n",
    "        X_miss = ma.fit_transform(X_full)\n",
    "        \n",
    "        X_m = pd.DataFrame(X_miss, columns = ['Y1','Y2','X1'])\n",
    "        cc = X_m.dropna()\n",
    "        df_means.loc[n, 'mean_MAR'] = cc['Y1'].mean() \n",
    "\n",
    "        \n",
    "        #___MNAR________\n",
    "        \n",
    "        ma = MultivariateAmputation(\n",
    "            patterns = [ {'incomplete_vars': [0,1], 'weights': [1,0,0], 'mechanism': \"MAR+MNAR\"} ],\n",
    "            prop = propor\n",
    "        )\n",
    "        X_miss = ma.fit_transform(X_full)\n",
    "        X_m = pd.DataFrame(X_miss, columns = ['Y1','Y2','X1'])\n",
    "        cc = X_m.dropna()\n",
    "        df_means.loc[n, 'mean_MNAR'] = cc['Y1'].mean() \n",
    "\n",
    "        \n",
    "    df_bias_cc.loc[cor*10, 'full'] = df_means['mean_full'].mean() - df_means['mean_full'].mean() \n",
    "    df_bias_cc.loc[cor*10, 'MCAR'] = df_means['mean_MCAR'].mean() - df_means['mean_full'].mean()\n",
    "    df_bias_cc.loc[cor*10, 'MAR'] = df_means['mean_MAR'].mean() - df_means['mean_full'].mean()\n",
    "    df_bias_cc.loc[cor*10, 'MNAR'] = df_means['mean_MNAR'].mean() - df_means['mean_full'].mean()\n",
    "\n",
    "    \n",
    "df_bias_cc"
   ]
  },
  {
   "cell_type": "code",
   "execution_count": 15,
   "id": "53b45142-cec6-47ff-92a9-71df13cd1a8f",
   "metadata": {},
   "outputs": [],
   "source": [
    "CC = df_bias_cc"
   ]
  },
  {
   "cell_type": "code",
   "execution_count": 16,
   "id": "d81886b8-37f5-49e0-b094-69fa57ecec6a",
   "metadata": {},
   "outputs": [
    {
     "data": {
      "text/plain": [
       "<AxesSubplot:>"
      ]
     },
     "execution_count": 16,
     "metadata": {},
     "output_type": "execute_result"
    },
    {
     "data": {
      "image/png": "[encoded data removed]",
      "text/plain": [
       "<Figure size 432x288 with 1 Axes>"
      ]
     },
     "metadata": {
      "needs_background": "light"
     },
     "output_type": "display_data"
    }
   ],
   "source": [
    "CC.plot()"
   ]
  },
  {
   "cell_type": "code",
   "execution_count": null,
   "id": "80a44e7e-f140-408b-ab87-e38e54f7d284",
   "metadata": {},
   "outputs": [],
   "source": []
  },
  {
   "cell_type": "code",
   "execution_count": null,
   "id": "fb88fecc-2929-4a29-93de-0a9745184fb6",
   "metadata": {},
   "outputs": [],
   "source": []
  },
  {
   "cell_type": "code",
   "execution_count": null,
   "id": "c572f950-f00d-4e51-8c35-b55caf86a151",
   "metadata": {},
   "outputs": [],
   "source": []
  },
  {
   "cell_type": "markdown",
   "id": "06ea38f7-ffaa-429d-9b6c-7d42e606f808",
   "metadata": {},
   "source": [
    "## MICE"
   ]
  },
  {
   "cell_type": "code",
   "execution_count": 17,
   "id": "43366599-6937-4acb-a45b-44b6528c6ffd",
   "metadata": {},
   "outputs": [
    {
     "data": {
      "text/html": [
       "<div>\n",
       "<style scoped>\n",
       "    .dataframe tbody tr th:only-of-type {\n",
       "        vertical-align: middle;\n",
       "    }\n",
       "\n",
       "    .dataframe tbody tr th {\n",
       "        vertical-align: top;\n",
       "    }\n",
       "\n",
       "    .dataframe thead th {\n",
       "        text-align: right;\n",
       "    }\n",
       "</style>\n",
       "<table border=\"1\" class=\"dataframe\">\n",
       "  <thead>\n",
       "    <tr style=\"text-align: right;\">\n",
       "      <th></th>\n",
       "      <th>full</th>\n",
       "      <th>MCAR</th>\n",
       "      <th>MAR</th>\n",
       "      <th>MNAR</th>\n",
       "    </tr>\n",
       "  </thead>\n",
       "  <tbody>\n",
       "    <tr>\n",
       "      <th>1.0</th>\n",
       "      <td>0.0</td>\n",
       "      <td>0.002264</td>\n",
       "      <td>-0.002468</td>\n",
       "      <td>-0.171973</td>\n",
       "    </tr>\n",
       "    <tr>\n",
       "      <th>2.0</th>\n",
       "      <td>0.0</td>\n",
       "      <td>0.003166</td>\n",
       "      <td>-0.005535</td>\n",
       "      <td>-0.16729</td>\n",
       "    </tr>\n",
       "    <tr>\n",
       "      <th>3.0</th>\n",
       "      <td>0.0</td>\n",
       "      <td>-0.000816</td>\n",
       "      <td>-0.000082</td>\n",
       "      <td>-0.159297</td>\n",
       "    </tr>\n",
       "    <tr>\n",
       "      <th>4.0</th>\n",
       "      <td>0.0</td>\n",
       "      <td>0.001097</td>\n",
       "      <td>0.001907</td>\n",
       "      <td>-0.146763</td>\n",
       "    </tr>\n",
       "    <tr>\n",
       "      <th>5.0</th>\n",
       "      <td>0.0</td>\n",
       "      <td>-0.00201</td>\n",
       "      <td>-0.000583</td>\n",
       "      <td>-0.134607</td>\n",
       "    </tr>\n",
       "    <tr>\n",
       "      <th>6.0</th>\n",
       "      <td>0.0</td>\n",
       "      <td>0.000316</td>\n",
       "      <td>-0.000259</td>\n",
       "      <td>-0.116518</td>\n",
       "    </tr>\n",
       "    <tr>\n",
       "      <th>7.0</th>\n",
       "      <td>0.0</td>\n",
       "      <td>-0.00228</td>\n",
       "      <td>0.000294</td>\n",
       "      <td>-0.092583</td>\n",
       "    </tr>\n",
       "    <tr>\n",
       "      <th>8.0</th>\n",
       "      <td>0.0</td>\n",
       "      <td>-0.000183</td>\n",
       "      <td>0.000022</td>\n",
       "      <td>-0.06778</td>\n",
       "    </tr>\n",
       "    <tr>\n",
       "      <th>9.0</th>\n",
       "      <td>0.0</td>\n",
       "      <td>-0.000474</td>\n",
       "      <td>0.000077</td>\n",
       "      <td>-0.036126</td>\n",
       "    </tr>\n",
       "  </tbody>\n",
       "</table>\n",
       "</div>"
      ],
      "text/plain": [
       "    full      MCAR       MAR      MNAR\n",
       "1.0  0.0  0.002264 -0.002468 -0.171973\n",
       "2.0  0.0  0.003166 -0.005535  -0.16729\n",
       "3.0  0.0 -0.000816 -0.000082 -0.159297\n",
       "4.0  0.0  0.001097  0.001907 -0.146763\n",
       "5.0  0.0  -0.00201 -0.000583 -0.134607\n",
       "6.0  0.0  0.000316 -0.000259 -0.116518\n",
       "7.0  0.0  -0.00228  0.000294 -0.092583\n",
       "8.0  0.0 -0.000183  0.000022  -0.06778\n",
       "9.0  0.0 -0.000474  0.000077 -0.036126"
      ]
     },
     "execution_count": 17,
     "metadata": {},
     "output_type": "execute_result"
    }
   ],
   "source": [
    "propor = 0.2\n",
    "corrs = np.arange(0.1, 1, 0.1)\n",
    "\n",
    "df_bias_mice = pd.DataFrame(columns = ['full', 'MCAR', 'MAR', 'MNAR'])\n",
    "\n",
    "for cor in corrs:\n",
    "    \n",
    "    n = 0\n",
    "    df_means = pd.DataFrame(columns = ['mean_full', 'mean_MCAR', 'mean_MAR', 'mean_MNAR'])\n",
    "\n",
    "    for n in np.arange(100):\n",
    "\n",
    "        X_full = data_gener(1000, cor)\n",
    "        df_means.loc[n, 'mean_full'] = X_full[:,0].mean() \n",
    "        \n",
    "    \n",
    "        \n",
    "        #___MCAR________\n",
    "        \n",
    "        ma = MultivariateAmputation(\n",
    "            patterns = [ {'incomplete_vars': [0,1], 'mechanism': \"MCAR\"} ],\n",
    "            prop = propor\n",
    "        )\n",
    "        X_miss_MCAR = ma.fit_transform(X_full)\n",
    "\n",
    "        #X_m_MCAR = pd.DataFrame(X_miss_MCAR, columns = ['Y1','Y2','X1'])\n",
    "        #imp = IterativeImputer(max_iter=50, random_state = 0).fit_transform(X_m)\n",
    "        imp_MCAR = IterativeImputer(max_iter=50, random_state = 0, estimator = BayesianRidge()).fit_transform(X_miss_MCAR)\n",
    "        df_means.loc[n, 'mean_MCAR'] = imp_MCAR[:,0].mean()\n",
    "        #df_means.loc[n, 'mean_MCAR'] = imp['Y1'].mean() \n",
    "\n",
    "\n",
    "        #___MAR________\n",
    "        \n",
    "        ma = MultivariateAmputation(\n",
    "            patterns = [ {'incomplete_vars': [0,1], 'weights': [0,0,1], 'mechanism': \"MAR\"} ],\n",
    "            prop = propor\n",
    "        )\n",
    "        X_miss_MAR = ma.fit_transform(X_full)\n",
    "        \n",
    "        #X_m_MAR = pd.DataFrame(X_miss, columns = ['Y1','Y2','X1'])\n",
    "        imp_MAR = IterativeImputer(max_iter=50, random_state = 0, estimator = BayesianRidge()).fit_transform(X_miss_MAR)\n",
    "        df_means.loc[n, 'mean_MAR'] = imp_MAR[:,0].mean()\n",
    "\n",
    "        \n",
    "        #___MNAR________\n",
    "        \n",
    "        ma = MultivariateAmputation(\n",
    "            patterns = [ {'incomplete_vars': [0,1], 'weights': [1,0,0], 'mechanism': \"MAR+MNAR\"} ],\n",
    "            prop = propor\n",
    "        )\n",
    "        X_miss_MNAR = ma.fit_transform(X_full)\n",
    "        imp_MNAR = IterativeImputer(max_iter=50, random_state = 0, estimator = BayesianRidge()).fit_transform(X_miss_MNAR)\n",
    "        df_means.loc[n, 'mean_MNAR'] = imp_MNAR[:,0].mean() \n",
    "\n",
    "        \n",
    "    df_bias_mice.loc[cor*10, 'full'] = df_means['mean_full'].mean() - df_means['mean_full'].mean() \n",
    "    df_bias_mice.loc[cor*10, 'MCAR'] = df_means['mean_MCAR'].mean() - df_means['mean_full'].mean()\n",
    "    df_bias_mice.loc[cor*10, 'MAR'] = df_means['mean_MAR'].mean() - df_means['mean_full'].mean()\n",
    "    df_bias_mice.loc[cor*10, 'MNAR'] = df_means['mean_MNAR'].mean() - df_means['mean_full'].mean()\n",
    "\n",
    "    \n",
    "df_bias_mice"
   ]
  },
  {
   "cell_type": "code",
   "execution_count": 18,
   "id": "ab08281e-43f6-4100-b916-983bb854449f",
   "metadata": {},
   "outputs": [],
   "source": [
    "MICE = df_bias_mice"
   ]
  },
  {
   "cell_type": "code",
   "execution_count": 19,
   "id": "e36b713b-f256-4520-ba94-e0d46919a448",
   "metadata": {},
   "outputs": [
    {
     "data": {
      "text/plain": [
       "<AxesSubplot:>"
      ]
     },
     "execution_count": 19,
     "metadata": {},
     "output_type": "execute_result"
    },
    {
     "data": {
      "image/png": "[encoded data removed]",
      "text/plain": [
       "<Figure size 432x288 with 1 Axes>"
      ]
     },
     "metadata": {
      "needs_background": "light"
     },
     "output_type": "display_data"
    }
   ],
   "source": [
    "MICE.plot()"
   ]
  }
 ],
 "metadata": {
  "kernelspec": {
   "display_name": "mice",
   "language": "python",
   "name": "mice"
  },
  "language_info": {
   "codemirror_mode": {
    "name": "ipython",
    "version": 3
   },
   "file_extension": ".py",
   "mimetype": "text/x-python",
   "name": "python",
   "nbconvert_exporter": "python",
   "pygments_lexer": "ipython3",
   "version": "3.9.12"
  }
 },
 "nbformat": 4,
 "nbformat_minor": 5
}
