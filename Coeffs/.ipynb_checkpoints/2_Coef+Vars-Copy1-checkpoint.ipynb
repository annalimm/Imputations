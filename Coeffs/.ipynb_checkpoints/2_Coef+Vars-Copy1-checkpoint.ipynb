{
 "cells": [
  {
   "cell_type": "code",
   "execution_count": 1,
   "id": "eba57810-fe30-4bd2-80f6-8b95b11afac1",
   "metadata": {},
   "outputs": [],
   "source": [
    "import numpy as np\n",
    "import pandas as pd\n",
    "import pyampute\n",
    "from pyampute.ampute import MultivariateAmputation\n",
    "from sklearn.experimental import enable_iterative_imputer\n",
    "from sklearn.impute import SimpleImputer, IterativeImputer\n",
    "import os\n",
    "from matplotlib import pyplot as plt\n",
    "from sklearn.preprocessing import StandardScaler\n",
    "\n",
    "from sklearn.model_selection import train_test_split\n",
    "from sklearn.linear_model import BayesianRidge, LinearRegression\n",
    "\n",
    "import statsmodels.api as sm"
   ]
  },
  {
   "cell_type": "code",
   "execution_count": null,
   "id": "79f9f01e-5375-4350-8e25-98b14a3269c9",
   "metadata": {},
   "outputs": [],
   "source": []
  },
  {
   "cell_type": "code",
   "execution_count": 2,
   "id": "13637f15-cb57-46b3-ab34-6ecf96a98d9e",
   "metadata": {},
   "outputs": [
    {
     "data": {
      "text/html": [
       "<div>\n",
       "<style scoped>\n",
       "    .dataframe tbody tr th:only-of-type {\n",
       "        vertical-align: middle;\n",
       "    }\n",
       "\n",
       "    .dataframe tbody tr th {\n",
       "        vertical-align: top;\n",
       "    }\n",
       "\n",
       "    .dataframe thead th {\n",
       "        text-align: right;\n",
       "    }\n",
       "</style>\n",
       "<table border=\"1\" class=\"dataframe\">\n",
       "  <thead>\n",
       "    <tr style=\"text-align: right;\">\n",
       "      <th></th>\n",
       "      <th>0</th>\n",
       "      <th>1</th>\n",
       "      <th>2</th>\n",
       "      <th>3</th>\n",
       "      <th>4</th>\n",
       "      <th>5</th>\n",
       "      <th>6</th>\n",
       "      <th>7</th>\n",
       "      <th>8</th>\n",
       "      <th>9</th>\n",
       "      <th>10</th>\n",
       "      <th>11</th>\n",
       "    </tr>\n",
       "  </thead>\n",
       "  <tbody>\n",
       "    <tr>\n",
       "      <th>0</th>\n",
       "      <td>0.681272</td>\n",
       "      <td>0.839077</td>\n",
       "      <td>1.699830</td>\n",
       "      <td>0.780747</td>\n",
       "      <td>1.965416</td>\n",
       "      <td>2.297007</td>\n",
       "      <td>-0.619881</td>\n",
       "      <td>-0.906753</td>\n",
       "      <td>1.710877</td>\n",
       "      <td>1.080780</td>\n",
       "      <td>0.195906</td>\n",
       "      <td>-0.762807</td>\n",
       "    </tr>\n",
       "    <tr>\n",
       "      <th>1</th>\n",
       "      <td>1.465668</td>\n",
       "      <td>1.619690</td>\n",
       "      <td>1.556676</td>\n",
       "      <td>2.193946</td>\n",
       "      <td>1.396400</td>\n",
       "      <td>-0.673438</td>\n",
       "      <td>1.092172</td>\n",
       "      <td>-0.193068</td>\n",
       "      <td>0.172220</td>\n",
       "      <td>0.592126</td>\n",
       "      <td>1.120988</td>\n",
       "      <td>0.020496</td>\n",
       "    </tr>\n",
       "    <tr>\n",
       "      <th>2</th>\n",
       "      <td>-1.584760</td>\n",
       "      <td>-0.790098</td>\n",
       "      <td>-1.020090</td>\n",
       "      <td>-0.475431</td>\n",
       "      <td>-1.069334</td>\n",
       "      <td>-1.267527</td>\n",
       "      <td>-1.400506</td>\n",
       "      <td>-1.412281</td>\n",
       "      <td>-0.606606</td>\n",
       "      <td>-2.146019</td>\n",
       "      <td>0.000772</td>\n",
       "      <td>1.699002</td>\n",
       "    </tr>\n",
       "    <tr>\n",
       "      <th>3</th>\n",
       "      <td>1.117047</td>\n",
       "      <td>1.467215</td>\n",
       "      <td>1.914561</td>\n",
       "      <td>1.304154</td>\n",
       "      <td>1.111892</td>\n",
       "      <td>0.910800</td>\n",
       "      <td>0.045425</td>\n",
       "      <td>0.936935</td>\n",
       "      <td>0.020254</td>\n",
       "      <td>-0.022903</td>\n",
       "      <td>0.058590</td>\n",
       "      <td>-0.091404</td>\n",
       "    </tr>\n",
       "    <tr>\n",
       "      <th>4</th>\n",
       "      <td>0.506962</td>\n",
       "      <td>2.299204</td>\n",
       "      <td>1.771407</td>\n",
       "      <td>0.519043</td>\n",
       "      <td>0.732548</td>\n",
       "      <td>-0.574423</td>\n",
       "      <td>1.730865</td>\n",
       "      <td>-1.114912</td>\n",
       "      <td>0.789582</td>\n",
       "      <td>1.266131</td>\n",
       "      <td>-0.136545</td>\n",
       "      <td>1.251401</td>\n",
       "    </tr>\n",
       "    <tr>\n",
       "      <th>...</th>\n",
       "      <td>...</td>\n",
       "      <td>...</td>\n",
       "      <td>...</td>\n",
       "      <td>...</td>\n",
       "      <td>...</td>\n",
       "      <td>...</td>\n",
       "      <td>...</td>\n",
       "      <td>...</td>\n",
       "      <td>...</td>\n",
       "      <td>...</td>\n",
       "      <td>...</td>\n",
       "      <td>...</td>\n",
       "    </tr>\n",
       "    <tr>\n",
       "      <th>1878</th>\n",
       "      <td>-0.887519</td>\n",
       "      <td>-0.280463</td>\n",
       "      <td>0.339870</td>\n",
       "      <td>-0.789475</td>\n",
       "      <td>-0.595155</td>\n",
       "      <td>-0.178363</td>\n",
       "      <td>0.453479</td>\n",
       "      <td>-0.490437</td>\n",
       "      <td>-0.331168</td>\n",
       "      <td>0.137173</td>\n",
       "      <td>-0.273861</td>\n",
       "      <td>0.468098</td>\n",
       "    </tr>\n",
       "    <tr>\n",
       "      <th>1879</th>\n",
       "      <td>-0.713209</td>\n",
       "      <td>-0.280463</td>\n",
       "      <td>-0.053802</td>\n",
       "      <td>-0.946497</td>\n",
       "      <td>-1.164170</td>\n",
       "      <td>-1.366541</td>\n",
       "      <td>0.151873</td>\n",
       "      <td>1.501937</td>\n",
       "      <td>-0.141210</td>\n",
       "      <td>0.389925</td>\n",
       "      <td>-0.729175</td>\n",
       "      <td>0.132397</td>\n",
       "    </tr>\n",
       "    <tr>\n",
       "      <th>1880</th>\n",
       "      <td>-0.364589</td>\n",
       "      <td>0.414796</td>\n",
       "      <td>-0.018014</td>\n",
       "      <td>-0.266068</td>\n",
       "      <td>-0.215811</td>\n",
       "      <td>-1.366541</td>\n",
       "      <td>-0.398112</td>\n",
       "      <td>-1.560966</td>\n",
       "      <td>-0.036733</td>\n",
       "      <td>-0.840134</td>\n",
       "      <td>-0.042591</td>\n",
       "      <td>1.475201</td>\n",
       "    </tr>\n",
       "    <tr>\n",
       "      <th>1881</th>\n",
       "      <td>-1.148984</td>\n",
       "      <td>-0.756122</td>\n",
       "      <td>-0.161168</td>\n",
       "      <td>-0.475431</td>\n",
       "      <td>-0.026139</td>\n",
       "      <td>0.019666</td>\n",
       "      <td>0.613152</td>\n",
       "      <td>0.520618</td>\n",
       "      <td>0.457157</td>\n",
       "      <td>0.802753</td>\n",
       "      <td>-0.317224</td>\n",
       "      <td>0.132397</td>\n",
       "    </tr>\n",
       "    <tr>\n",
       "      <th>1882</th>\n",
       "      <td>-0.451744</td>\n",
       "      <td>0.092442</td>\n",
       "      <td>0.483024</td>\n",
       "      <td>0.152658</td>\n",
       "      <td>0.258369</td>\n",
       "      <td>0.811785</td>\n",
       "      <td>0.692988</td>\n",
       "      <td>-0.312015</td>\n",
       "      <td>-0.293176</td>\n",
       "      <td>0.482600</td>\n",
       "      <td>-0.057045</td>\n",
       "      <td>0.132397</td>\n",
       "    </tr>\n",
       "  </tbody>\n",
       "</table>\n",
       "<p>1883 rows × 12 columns</p>\n",
       "</div>"
      ],
      "text/plain": [
       "             0         1         2         3         4         5         6  \\\n",
       "0     0.681272  0.839077  1.699830  0.780747  1.965416  2.297007 -0.619881   \n",
       "1     1.465668  1.619690  1.556676  2.193946  1.396400 -0.673438  1.092172   \n",
       "2    -1.584760 -0.790098 -1.020090 -0.475431 -1.069334 -1.267527 -1.400506   \n",
       "3     1.117047  1.467215  1.914561  1.304154  1.111892  0.910800  0.045425   \n",
       "4     0.506962  2.299204  1.771407  0.519043  0.732548 -0.574423  1.730865   \n",
       "...        ...       ...       ...       ...       ...       ...       ...   \n",
       "1878 -0.887519 -0.280463  0.339870 -0.789475 -0.595155 -0.178363  0.453479   \n",
       "1879 -0.713209 -0.280463 -0.053802 -0.946497 -1.164170 -1.366541  0.151873   \n",
       "1880 -0.364589  0.414796 -0.018014 -0.266068 -0.215811 -1.366541 -0.398112   \n",
       "1881 -1.148984 -0.756122 -0.161168 -0.475431 -0.026139  0.019666  0.613152   \n",
       "1882 -0.451744  0.092442  0.483024  0.152658  0.258369  0.811785  0.692988   \n",
       "\n",
       "             7         8         9        10        11  \n",
       "0    -0.906753  1.710877  1.080780  0.195906 -0.762807  \n",
       "1    -0.193068  0.172220  0.592126  1.120988  0.020496  \n",
       "2    -1.412281 -0.606606 -2.146019  0.000772  1.699002  \n",
       "3     0.936935  0.020254 -0.022903  0.058590 -0.091404  \n",
       "4    -1.114912  0.789582  1.266131 -0.136545  1.251401  \n",
       "...        ...       ...       ...       ...       ...  \n",
       "1878 -0.490437 -0.331168  0.137173 -0.273861  0.468098  \n",
       "1879  1.501937 -0.141210  0.389925 -0.729175  0.132397  \n",
       "1880 -1.560966 -0.036733 -0.840134 -0.042591  1.475201  \n",
       "1881  0.520618  0.457157  0.802753 -0.317224  0.132397  \n",
       "1882 -0.312015 -0.293176  0.482600 -0.057045  0.132397  \n",
       "\n",
       "[1883 rows x 12 columns]"
      ]
     },
     "execution_count": 2,
     "metadata": {},
     "output_type": "execute_result"
    }
   ],
   "source": [
    "X_full = np.genfromtxt(os.path.basename('/Desktop/GIT/Imputations/data_ivanovo.csv') , delimiter=';', skip_header=2)\n",
    "df = pd.DataFrame(X_full)\n",
    "\n",
    "df_cont = df.iloc[:, 6:18]\n",
    "df_cont.columns = [str(i) for i in range(df_cont.shape[1])]\n",
    "df_cont"
   ]
  },
  {
   "cell_type": "code",
   "execution_count": 3,
   "id": "f6971e4b-fb30-4f7d-8842-d0df58ea251e",
   "metadata": {},
   "outputs": [
    {
     "data": {
      "text/html": [
       "<div>\n",
       "<style scoped>\n",
       "    .dataframe tbody tr th:only-of-type {\n",
       "        vertical-align: middle;\n",
       "    }\n",
       "\n",
       "    .dataframe tbody tr th {\n",
       "        vertical-align: top;\n",
       "    }\n",
       "\n",
       "    .dataframe thead th {\n",
       "        text-align: right;\n",
       "    }\n",
       "</style>\n",
       "<table border=\"1\" class=\"dataframe\">\n",
       "  <thead>\n",
       "    <tr style=\"text-align: right;\">\n",
       "      <th></th>\n",
       "      <th>0</th>\n",
       "      <th>1</th>\n",
       "      <th>2</th>\n",
       "      <th>3</th>\n",
       "      <th>4</th>\n",
       "      <th>5</th>\n",
       "      <th>6</th>\n",
       "      <th>7</th>\n",
       "      <th>8</th>\n",
       "      <th>9</th>\n",
       "      <th>10</th>\n",
       "      <th>11</th>\n",
       "    </tr>\n",
       "  </thead>\n",
       "  <tbody>\n",
       "    <tr>\n",
       "      <th>0</th>\n",
       "      <td>0.681272</td>\n",
       "      <td>0.839077</td>\n",
       "      <td>1.699830</td>\n",
       "      <td>0.780747</td>\n",
       "      <td>1.965416</td>\n",
       "      <td>2.297007</td>\n",
       "      <td>-0.619881</td>\n",
       "      <td>-0.906753</td>\n",
       "      <td>1.710877</td>\n",
       "      <td>1.080780</td>\n",
       "      <td>0.195906</td>\n",
       "      <td>-0.762807</td>\n",
       "    </tr>\n",
       "    <tr>\n",
       "      <th>1</th>\n",
       "      <td>1.465668</td>\n",
       "      <td>1.619690</td>\n",
       "      <td>1.556676</td>\n",
       "      <td>2.193946</td>\n",
       "      <td>1.396400</td>\n",
       "      <td>-0.673438</td>\n",
       "      <td>1.092172</td>\n",
       "      <td>-0.193068</td>\n",
       "      <td>0.172220</td>\n",
       "      <td>0.592126</td>\n",
       "      <td>1.120988</td>\n",
       "      <td>0.020496</td>\n",
       "    </tr>\n",
       "    <tr>\n",
       "      <th>2</th>\n",
       "      <td>-1.584760</td>\n",
       "      <td>-0.790098</td>\n",
       "      <td>-1.020090</td>\n",
       "      <td>-0.475431</td>\n",
       "      <td>-1.069334</td>\n",
       "      <td>-1.267527</td>\n",
       "      <td>-1.400506</td>\n",
       "      <td>-1.412281</td>\n",
       "      <td>-0.606606</td>\n",
       "      <td>-2.146019</td>\n",
       "      <td>0.000772</td>\n",
       "      <td>1.699002</td>\n",
       "    </tr>\n",
       "    <tr>\n",
       "      <th>3</th>\n",
       "      <td>1.117047</td>\n",
       "      <td>1.467215</td>\n",
       "      <td>1.914561</td>\n",
       "      <td>1.304154</td>\n",
       "      <td>1.111892</td>\n",
       "      <td>0.910800</td>\n",
       "      <td>0.045425</td>\n",
       "      <td>0.936935</td>\n",
       "      <td>0.020254</td>\n",
       "      <td>-0.022903</td>\n",
       "      <td>0.058590</td>\n",
       "      <td>-0.091404</td>\n",
       "    </tr>\n",
       "    <tr>\n",
       "      <th>4</th>\n",
       "      <td>0.506962</td>\n",
       "      <td>2.299204</td>\n",
       "      <td>1.771407</td>\n",
       "      <td>0.519043</td>\n",
       "      <td>0.732548</td>\n",
       "      <td>-0.574423</td>\n",
       "      <td>1.730865</td>\n",
       "      <td>-1.114912</td>\n",
       "      <td>0.789582</td>\n",
       "      <td>1.266131</td>\n",
       "      <td>-0.136545</td>\n",
       "      <td>1.251401</td>\n",
       "    </tr>\n",
       "    <tr>\n",
       "      <th>...</th>\n",
       "      <td>...</td>\n",
       "      <td>...</td>\n",
       "      <td>...</td>\n",
       "      <td>...</td>\n",
       "      <td>...</td>\n",
       "      <td>...</td>\n",
       "      <td>...</td>\n",
       "      <td>...</td>\n",
       "      <td>...</td>\n",
       "      <td>...</td>\n",
       "      <td>...</td>\n",
       "      <td>...</td>\n",
       "    </tr>\n",
       "    <tr>\n",
       "      <th>1878</th>\n",
       "      <td>-0.887519</td>\n",
       "      <td>-0.280463</td>\n",
       "      <td>0.339870</td>\n",
       "      <td>-0.789475</td>\n",
       "      <td>-0.595155</td>\n",
       "      <td>-0.178363</td>\n",
       "      <td>0.453479</td>\n",
       "      <td>-0.490437</td>\n",
       "      <td>-0.331168</td>\n",
       "      <td>0.137173</td>\n",
       "      <td>-0.273861</td>\n",
       "      <td>0.468098</td>\n",
       "    </tr>\n",
       "    <tr>\n",
       "      <th>1879</th>\n",
       "      <td>-0.713209</td>\n",
       "      <td>-0.280463</td>\n",
       "      <td>-0.053802</td>\n",
       "      <td>-0.946497</td>\n",
       "      <td>-1.164170</td>\n",
       "      <td>-1.366541</td>\n",
       "      <td>0.151873</td>\n",
       "      <td>1.501937</td>\n",
       "      <td>-0.141210</td>\n",
       "      <td>0.389925</td>\n",
       "      <td>-0.729175</td>\n",
       "      <td>0.132397</td>\n",
       "    </tr>\n",
       "    <tr>\n",
       "      <th>1880</th>\n",
       "      <td>-0.364589</td>\n",
       "      <td>0.414796</td>\n",
       "      <td>-0.018014</td>\n",
       "      <td>-0.266068</td>\n",
       "      <td>-0.215811</td>\n",
       "      <td>-1.366541</td>\n",
       "      <td>-0.398112</td>\n",
       "      <td>-1.560966</td>\n",
       "      <td>-0.036733</td>\n",
       "      <td>-0.840134</td>\n",
       "      <td>-0.042591</td>\n",
       "      <td>1.475201</td>\n",
       "    </tr>\n",
       "    <tr>\n",
       "      <th>1881</th>\n",
       "      <td>-1.148984</td>\n",
       "      <td>-0.756122</td>\n",
       "      <td>-0.161168</td>\n",
       "      <td>-0.475431</td>\n",
       "      <td>-0.026139</td>\n",
       "      <td>0.019666</td>\n",
       "      <td>0.613152</td>\n",
       "      <td>0.520618</td>\n",
       "      <td>0.457157</td>\n",
       "      <td>0.802753</td>\n",
       "      <td>-0.317224</td>\n",
       "      <td>0.132397</td>\n",
       "    </tr>\n",
       "    <tr>\n",
       "      <th>1882</th>\n",
       "      <td>-0.451744</td>\n",
       "      <td>0.092442</td>\n",
       "      <td>0.483024</td>\n",
       "      <td>0.152658</td>\n",
       "      <td>0.258369</td>\n",
       "      <td>0.811785</td>\n",
       "      <td>0.692988</td>\n",
       "      <td>-0.312015</td>\n",
       "      <td>-0.293176</td>\n",
       "      <td>0.482600</td>\n",
       "      <td>-0.057045</td>\n",
       "      <td>0.132397</td>\n",
       "    </tr>\n",
       "  </tbody>\n",
       "</table>\n",
       "<p>1858 rows × 12 columns</p>\n",
       "</div>"
      ],
      "text/plain": [
       "             0         1         2         3         4         5         6  \\\n",
       "0     0.681272  0.839077  1.699830  0.780747  1.965416  2.297007 -0.619881   \n",
       "1     1.465668  1.619690  1.556676  2.193946  1.396400 -0.673438  1.092172   \n",
       "2    -1.584760 -0.790098 -1.020090 -0.475431 -1.069334 -1.267527 -1.400506   \n",
       "3     1.117047  1.467215  1.914561  1.304154  1.111892  0.910800  0.045425   \n",
       "4     0.506962  2.299204  1.771407  0.519043  0.732548 -0.574423  1.730865   \n",
       "...        ...       ...       ...       ...       ...       ...       ...   \n",
       "1878 -0.887519 -0.280463  0.339870 -0.789475 -0.595155 -0.178363  0.453479   \n",
       "1879 -0.713209 -0.280463 -0.053802 -0.946497 -1.164170 -1.366541  0.151873   \n",
       "1880 -0.364589  0.414796 -0.018014 -0.266068 -0.215811 -1.366541 -0.398112   \n",
       "1881 -1.148984 -0.756122 -0.161168 -0.475431 -0.026139  0.019666  0.613152   \n",
       "1882 -0.451744  0.092442  0.483024  0.152658  0.258369  0.811785  0.692988   \n",
       "\n",
       "             7         8         9        10        11  \n",
       "0    -0.906753  1.710877  1.080780  0.195906 -0.762807  \n",
       "1    -0.193068  0.172220  0.592126  1.120988  0.020496  \n",
       "2    -1.412281 -0.606606 -2.146019  0.000772  1.699002  \n",
       "3     0.936935  0.020254 -0.022903  0.058590 -0.091404  \n",
       "4    -1.114912  0.789582  1.266131 -0.136545  1.251401  \n",
       "...        ...       ...       ...       ...       ...  \n",
       "1878 -0.490437 -0.331168  0.137173 -0.273861  0.468098  \n",
       "1879  1.501937 -0.141210  0.389925 -0.729175  0.132397  \n",
       "1880 -1.560966 -0.036733 -0.840134 -0.042591  1.475201  \n",
       "1881  0.520618  0.457157  0.802753 -0.317224  0.132397  \n",
       "1882 -0.312015 -0.293176  0.482600 -0.057045  0.132397  \n",
       "\n",
       "[1858 rows x 12 columns]"
      ]
     },
     "execution_count": 3,
     "metadata": {},
     "output_type": "execute_result"
    }
   ],
   "source": [
    "df.dropna(axis=0, how='any', thresh=None, subset=None, inplace=True)\n",
    "df_cont = df.iloc[:, 6:18]\n",
    "df_cont.columns = [str(i) for i in range(df_cont.shape[1])]\n",
    "df_cont"
   ]
  },
  {
   "cell_type": "code",
   "execution_count": null,
   "id": "324fb8ff-f408-4bc3-9716-8d813fb7b07e",
   "metadata": {},
   "outputs": [],
   "source": []
  },
  {
   "cell_type": "markdown",
   "id": "f2a58ddd-da92-442e-9c03-6feb848319b0",
   "metadata": {},
   "source": [
    "# Full"
   ]
  },
  {
   "cell_type": "code",
   "execution_count": 4,
   "id": "0b31da53-39d3-4b8d-9a76-51dffeb15538",
   "metadata": {},
   "outputs": [
    {
     "data": {
      "text/html": [
       "<div>\n",
       "<style scoped>\n",
       "    .dataframe tbody tr th:only-of-type {\n",
       "        vertical-align: middle;\n",
       "    }\n",
       "\n",
       "    .dataframe tbody tr th {\n",
       "        vertical-align: top;\n",
       "    }\n",
       "\n",
       "    .dataframe thead th {\n",
       "        text-align: right;\n",
       "    }\n",
       "</style>\n",
       "<table border=\"1\" class=\"dataframe\">\n",
       "  <thead>\n",
       "    <tr style=\"text-align: right;\">\n",
       "      <th></th>\n",
       "      <th>0</th>\n",
       "      <th>3</th>\n",
       "      <th>4</th>\n",
       "      <th>7</th>\n",
       "    </tr>\n",
       "  </thead>\n",
       "  <tbody>\n",
       "    <tr>\n",
       "      <th>0</th>\n",
       "      <td>0.681272</td>\n",
       "      <td>0.780747</td>\n",
       "      <td>1.965416</td>\n",
       "      <td>-0.906753</td>\n",
       "    </tr>\n",
       "    <tr>\n",
       "      <th>1</th>\n",
       "      <td>1.465668</td>\n",
       "      <td>2.193946</td>\n",
       "      <td>1.396400</td>\n",
       "      <td>-0.193068</td>\n",
       "    </tr>\n",
       "    <tr>\n",
       "      <th>2</th>\n",
       "      <td>-1.584760</td>\n",
       "      <td>-0.475431</td>\n",
       "      <td>-1.069334</td>\n",
       "      <td>-1.412281</td>\n",
       "    </tr>\n",
       "    <tr>\n",
       "      <th>3</th>\n",
       "      <td>1.117047</td>\n",
       "      <td>1.304154</td>\n",
       "      <td>1.111892</td>\n",
       "      <td>0.936935</td>\n",
       "    </tr>\n",
       "    <tr>\n",
       "      <th>4</th>\n",
       "      <td>0.506962</td>\n",
       "      <td>0.519043</td>\n",
       "      <td>0.732548</td>\n",
       "      <td>-1.114912</td>\n",
       "    </tr>\n",
       "    <tr>\n",
       "      <th>...</th>\n",
       "      <td>...</td>\n",
       "      <td>...</td>\n",
       "      <td>...</td>\n",
       "      <td>...</td>\n",
       "    </tr>\n",
       "    <tr>\n",
       "      <th>1878</th>\n",
       "      <td>-0.887519</td>\n",
       "      <td>-0.789475</td>\n",
       "      <td>-0.595155</td>\n",
       "      <td>-0.490437</td>\n",
       "    </tr>\n",
       "    <tr>\n",
       "      <th>1879</th>\n",
       "      <td>-0.713209</td>\n",
       "      <td>-0.946497</td>\n",
       "      <td>-1.164170</td>\n",
       "      <td>1.501937</td>\n",
       "    </tr>\n",
       "    <tr>\n",
       "      <th>1880</th>\n",
       "      <td>-0.364589</td>\n",
       "      <td>-0.266068</td>\n",
       "      <td>-0.215811</td>\n",
       "      <td>-1.560966</td>\n",
       "    </tr>\n",
       "    <tr>\n",
       "      <th>1881</th>\n",
       "      <td>-1.148984</td>\n",
       "      <td>-0.475431</td>\n",
       "      <td>-0.026139</td>\n",
       "      <td>0.520618</td>\n",
       "    </tr>\n",
       "    <tr>\n",
       "      <th>1882</th>\n",
       "      <td>-0.451744</td>\n",
       "      <td>0.152658</td>\n",
       "      <td>0.258369</td>\n",
       "      <td>-0.312015</td>\n",
       "    </tr>\n",
       "  </tbody>\n",
       "</table>\n",
       "<p>1858 rows × 4 columns</p>\n",
       "</div>"
      ],
      "text/plain": [
       "             0         3         4         7\n",
       "0     0.681272  0.780747  1.965416 -0.906753\n",
       "1     1.465668  2.193946  1.396400 -0.193068\n",
       "2    -1.584760 -0.475431 -1.069334 -1.412281\n",
       "3     1.117047  1.304154  1.111892  0.936935\n",
       "4     0.506962  0.519043  0.732548 -1.114912\n",
       "...        ...       ...       ...       ...\n",
       "1878 -0.887519 -0.789475 -0.595155 -0.490437\n",
       "1879 -0.713209 -0.946497 -1.164170  1.501937\n",
       "1880 -0.364589 -0.266068 -0.215811 -1.560966\n",
       "1881 -1.148984 -0.475431 -0.026139  0.520618\n",
       "1882 -0.451744  0.152658  0.258369 -0.312015\n",
       "\n",
       "[1858 rows x 4 columns]"
      ]
     },
     "execution_count": 4,
     "metadata": {},
     "output_type": "execute_result"
    }
   ],
   "source": [
    "cols_df1 = ['0','3','4', '7']\n",
    "df_1 = df_cont[cols_df1]\n",
    "df_1"
   ]
  },
  {
   "cell_type": "code",
   "execution_count": null,
   "id": "19bda1e8-9876-4b52-8f63-7dd09488041e",
   "metadata": {},
   "outputs": [],
   "source": []
  },
  {
   "cell_type": "code",
   "execution_count": null,
   "id": "335bf33b-339a-4be6-8505-681f6def10c2",
   "metadata": {},
   "outputs": [],
   "source": []
  },
  {
   "cell_type": "code",
   "execution_count": 5,
   "id": "c25a6a77-4a64-47c7-89db-5a9714af2c9e",
   "metadata": {},
   "outputs": [
    {
     "data": {
      "text/html": [
       "<table class=\"simpletable\">\n",
       "<caption>OLS Regression Results</caption>\n",
       "<tr>\n",
       "  <th>Dep. Variable:</th>            <td>7</td>        <th>  R-squared (uncentered):</th>      <td>   0.025</td>\n",
       "</tr>\n",
       "<tr>\n",
       "  <th>Model:</th>                   <td>OLS</td>       <th>  Adj. R-squared (uncentered):</th> <td>   0.023</td>\n",
       "</tr>\n",
       "<tr>\n",
       "  <th>Method:</th>             <td>Least Squares</td>  <th>  F-statistic:       </th>          <td>   15.89</td>\n",
       "</tr>\n",
       "<tr>\n",
       "  <th>Date:</th>             <td>Sat, 29 Oct 2022</td> <th>  Prob (F-statistic):</th>          <td>3.33e-10</td>\n",
       "</tr>\n",
       "<tr>\n",
       "  <th>Time:</th>                 <td>19:21:51</td>     <th>  Log-Likelihood:    </th>          <td> -2608.6</td>\n",
       "</tr>\n",
       "<tr>\n",
       "  <th>No. Observations:</th>      <td>  1858</td>      <th>  AIC:               </th>          <td>   5223.</td>\n",
       "</tr>\n",
       "<tr>\n",
       "  <th>Df Residuals:</th>          <td>  1855</td>      <th>  BIC:               </th>          <td>   5240.</td>\n",
       "</tr>\n",
       "<tr>\n",
       "  <th>Df Model:</th>              <td>     3</td>      <th>                     </th>              <td> </td>   \n",
       "</tr>\n",
       "<tr>\n",
       "  <th>Covariance Type:</th>      <td>nonrobust</td>    <th>                     </th>              <td> </td>   \n",
       "</tr>\n",
       "</table>\n",
       "<table class=\"simpletable\">\n",
       "<tr>\n",
       "  <td></td>     <th>coef</th>     <th>std err</th>      <th>t</th>      <th>P>|t|</th>  <th>[0.025</th>    <th>0.975]</th>  \n",
       "</tr>\n",
       "<tr>\n",
       "  <th>0</th> <td>    0.1107</td> <td>    0.025</td> <td>    4.354</td> <td> 0.000</td> <td>    0.061</td> <td>    0.161</td>\n",
       "</tr>\n",
       "<tr>\n",
       "  <th>3</th> <td>   -0.1260</td> <td>    0.039</td> <td>   -3.207</td> <td> 0.001</td> <td>   -0.203</td> <td>   -0.049</td>\n",
       "</tr>\n",
       "<tr>\n",
       "  <th>4</th> <td>   -0.0524</td> <td>    0.039</td> <td>   -1.361</td> <td> 0.174</td> <td>   -0.128</td> <td>    0.023</td>\n",
       "</tr>\n",
       "</table>\n",
       "<table class=\"simpletable\">\n",
       "<tr>\n",
       "  <th>Omnibus:</th>       <td>154.612</td> <th>  Durbin-Watson:     </th> <td>   1.916</td>\n",
       "</tr>\n",
       "<tr>\n",
       "  <th>Prob(Omnibus):</th> <td> 0.000</td>  <th>  Jarque-Bera (JB):  </th> <td> 206.344</td>\n",
       "</tr>\n",
       "<tr>\n",
       "  <th>Skew:</th>          <td> 0.696</td>  <th>  Prob(JB):          </th> <td>1.56e-45</td>\n",
       "</tr>\n",
       "<tr>\n",
       "  <th>Kurtosis:</th>      <td> 3.854</td>  <th>  Cond. No.          </th> <td>    3.27</td>\n",
       "</tr>\n",
       "</table><br/><br/>Notes:<br/>[1] R² is computed without centering (uncentered) since the model does not contain a constant.<br/>[2] Standard Errors assume that the covariance matrix of the errors is correctly specified."
      ],
      "text/plain": [
       "<class 'statsmodels.iolib.summary.Summary'>\n",
       "\"\"\"\n",
       "                                 OLS Regression Results                                \n",
       "=======================================================================================\n",
       "Dep. Variable:                      7   R-squared (uncentered):                   0.025\n",
       "Model:                            OLS   Adj. R-squared (uncentered):              0.023\n",
       "Method:                 Least Squares   F-statistic:                              15.89\n",
       "Date:                Sat, 29 Oct 2022   Prob (F-statistic):                    3.33e-10\n",
       "Time:                        19:21:51   Log-Likelihood:                         -2608.6\n",
       "No. Observations:                1858   AIC:                                      5223.\n",
       "Df Residuals:                    1855   BIC:                                      5240.\n",
       "Df Model:                           3                                                  \n",
       "Covariance Type:            nonrobust                                                  \n",
       "==============================================================================\n",
       "                 coef    std err          t      P>|t|      [0.025      0.975]\n",
       "------------------------------------------------------------------------------\n",
       "0              0.1107      0.025      4.354      0.000       0.061       0.161\n",
       "3             -0.1260      0.039     -3.207      0.001      -0.203      -0.049\n",
       "4             -0.0524      0.039     -1.361      0.174      -0.128       0.023\n",
       "==============================================================================\n",
       "Omnibus:                      154.612   Durbin-Watson:                   1.916\n",
       "Prob(Omnibus):                  0.000   Jarque-Bera (JB):              206.344\n",
       "Skew:                           0.696   Prob(JB):                     1.56e-45\n",
       "Kurtosis:                       3.854   Cond. No.                         3.27\n",
       "==============================================================================\n",
       "\n",
       "Notes:\n",
       "[1] R² is computed without centering (uncentered) since the model does not contain a constant.\n",
       "[2] Standard Errors assume that the covariance matrix of the errors is correctly specified.\n",
       "\"\"\""
      ]
     },
     "execution_count": 5,
     "metadata": {},
     "output_type": "execute_result"
    }
   ],
   "source": [
    "full_ols = sm.OLS(df_1.iloc[:,3], df_1.iloc[:, 0:3])\n",
    "full_ols_result = full_ols.fit()\n",
    "full_ols_result.summary() "
   ]
  },
  {
   "cell_type": "code",
   "execution_count": 6,
   "id": "95c8bfef-c1a6-4a2e-a0c9-3b497a0b072d",
   "metadata": {},
   "outputs": [
    {
     "data": {
      "text/plain": [
       "0    0.110723\n",
       "3   -0.125979\n",
       "4   -0.052410\n",
       "dtype: float64"
      ]
     },
     "execution_count": 6,
     "metadata": {},
     "output_type": "execute_result"
    }
   ],
   "source": [
    "df_1_coefs = full_ols_result.params\n",
    "df_1_coefs"
   ]
  },
  {
   "cell_type": "code",
   "execution_count": 7,
   "id": "f0ac2857-8d79-4050-806f-8d204941a3e4",
   "metadata": {},
   "outputs": [
    {
     "data": {
      "text/plain": [
       "0    0.025429\n",
       "3    0.039287\n",
       "4    0.038510\n",
       "dtype: float64"
      ]
     },
     "execution_count": 7,
     "metadata": {},
     "output_type": "execute_result"
    }
   ],
   "source": [
    "df_1_vars = full_ols_result.bse\n",
    "df_1_vars"
   ]
  },
  {
   "cell_type": "code",
   "execution_count": 8,
   "id": "01989746-865b-413a-8d44-853c219a9f01",
   "metadata": {},
   "outputs": [
    {
     "data": {
      "text/plain": [
       "[]"
      ]
     },
     "execution_count": 8,
     "metadata": {},
     "output_type": "execute_result"
    },
    {
     "data": {
      "image/png": "[encoded data removed]",
      "text/plain": [
       "<Figure size 432x288 with 1 Axes>"
      ]
     },
     "metadata": {
      "needs_background": "light"
     },
     "output_type": "display_data"
    }
   ],
   "source": [
    "plt.plot()"
   ]
  },
  {
   "cell_type": "code",
   "execution_count": 9,
   "id": "3b4e667e-0532-4286-87f6-3260a9c14bd5",
   "metadata": {},
   "outputs": [
    {
     "data": {
      "text/plain": [
       "Text(0.5, 1.0, \"Original df_1's coefficeints of the linear regression and their variances pooled\")"
      ]
     },
     "execution_count": 9,
     "metadata": {},
     "output_type": "execute_result"
    },
    {
     "data": {
      "image/png": "[encoded data removed]",
      "text/plain": [
       "<Figure size 720x504 with 1 Axes>"
      ]
     },
     "metadata": {
      "needs_background": "light"
     },
     "output_type": "display_data"
    }
   ],
   "source": [
    "fig, ax = plt.subplots(1, 1, figsize=(10, 7))\n",
    "ax.bar(x=cols_df1[0:3], \n",
    "       height=df_1_coefs, \n",
    "       width=0.6, \n",
    "       yerr = np.sqrt(df_1_vars), \n",
    "       alpha=1,  \n",
    "       edgecolor='black')\n",
    "plt.title(\"Original df_1's coefficeints of the linear regression and their variances pooled\")\n",
    "# plt.savefig(f\"figures/rubin_pooling_{p_mech}_{p_miss}_MEAN.png\", dpi=200)"
   ]
  },
  {
   "cell_type": "code",
   "execution_count": 10,
   "id": "c1218263-b4dc-4bf5-9a49-6a669f8653f0",
   "metadata": {},
   "outputs": [],
   "source": [
    "tt0 = np.linspace(min(df_1.iloc[:,0]), max(df_1.iloc[:,0]), 1000)"
   ]
  },
  {
   "cell_type": "code",
   "execution_count": 13,
   "id": "5e904dec-3940-4eee-8725-0db46ac17f2c",
   "metadata": {},
   "outputs": [
    {
     "data": {
      "image/png": "[encoded data removed]",
      "text/plain": [
       "<Figure size 504x360 with 1 Axes>"
      ]
     },
     "metadata": {
      "needs_background": "light"
     },
     "output_type": "display_data"
    }
   ],
   "source": [
    "#Scatter plot\n",
    "plt.figure(figsize=(7,5))\n",
    "plt.scatter(df_1.iloc[:,0], df_1.iloc[:,3])\n",
    "tt0 = np.linspace(min(df_1.iloc[:,0]), max(df_1.iloc[:,0]), 1000)\n",
    "tt1 = np.linspace(min(df_1.iloc[:,1]), max(df_1.iloc[:,1]), 1000)\n",
    "tt2 = np.linspace(min(df_1.iloc[:,2]), max(df_1.iloc[:,2]), 1000)\n",
    "plt.plot(tt0, df_1_coefs[0] * tt0 + df_1_coefs[1] * tt1 + df_1_coefs[2] * tt2, c='r')\n",
    "#On ajoute les titres des axes\n",
    "plt.xlabel(\"colimn 0\", fontsize = 12)\n",
    "plt.ylabel(\"column 7 predicted by columns 0, 3, 4\", fontsize = 12)\n",
    "plt.title(\"Linear regression\")\n",
    "\n",
    "plt.show()"
   ]
  },
  {
   "cell_type": "code",
   "execution_count": null,
   "id": "da68cb4b-0349-4346-90d6-101f381cb2c7",
   "metadata": {},
   "outputs": [],
   "source": []
  },
  {
   "cell_type": "code",
   "execution_count": null,
   "id": "845889d2-f84d-4813-8932-c2b82b22f496",
   "metadata": {},
   "outputs": [],
   "source": []
  },
  {
   "cell_type": "markdown",
   "id": "b38ad09e-f60f-4319-9443-cf4c99b073e7",
   "metadata": {},
   "source": [
    "# MICE"
   ]
  },
  {
   "cell_type": "code",
   "execution_count": 84,
   "id": "d3e37f51-953a-4758-aa9c-ab82cb4dfeae",
   "metadata": {},
   "outputs": [],
   "source": [
    "n_imputations = 5\n",
    "test_size = 0.2\n",
    "pr = 0.2\n",
    "mecha = 'MAR'\n",
    "\n",
    "ma = MultivariateAmputation(\n",
    "        patterns = [{'incomplete_vars': [0,1], 'mechanism': \"MAR\"},\n",
    "                    {'incomplete_vars': [1,2], 'mechanism': \"MAR\"}],\n",
    "        prop = pr\n",
    "    )\n",
    "X_miss = ma.fit_transform(df_1) #MAR!!"
   ]
  },
  {
   "cell_type": "code",
   "execution_count": 87,
   "id": "56272e86-db19-418b-8ab0-da3594ce012e",
   "metadata": {},
   "outputs": [
    {
     "data": {
      "text/html": [
       "<div>\n",
       "<style scoped>\n",
       "    .dataframe tbody tr th:only-of-type {\n",
       "        vertical-align: middle;\n",
       "    }\n",
       "\n",
       "    .dataframe tbody tr th {\n",
       "        vertical-align: top;\n",
       "    }\n",
       "\n",
       "    .dataframe thead th {\n",
       "        text-align: right;\n",
       "    }\n",
       "</style>\n",
       "<table border=\"1\" class=\"dataframe\">\n",
       "  <thead>\n",
       "    <tr style=\"text-align: right;\">\n",
       "      <th></th>\n",
       "      <th>0</th>\n",
       "      <th>3</th>\n",
       "      <th>4</th>\n",
       "      <th>7</th>\n",
       "    </tr>\n",
       "  </thead>\n",
       "  <tbody>\n",
       "    <tr>\n",
       "      <th>0</th>\n",
       "      <td>0.681272</td>\n",
       "      <td>NaN</td>\n",
       "      <td>NaN</td>\n",
       "      <td>-0.906753</td>\n",
       "    </tr>\n",
       "    <tr>\n",
       "      <th>1</th>\n",
       "      <td>NaN</td>\n",
       "      <td>NaN</td>\n",
       "      <td>1.396400</td>\n",
       "      <td>-0.193068</td>\n",
       "    </tr>\n",
       "    <tr>\n",
       "      <th>2</th>\n",
       "      <td>-1.584760</td>\n",
       "      <td>-0.475431</td>\n",
       "      <td>-1.069334</td>\n",
       "      <td>-1.412281</td>\n",
       "    </tr>\n",
       "    <tr>\n",
       "      <th>3</th>\n",
       "      <td>NaN</td>\n",
       "      <td>NaN</td>\n",
       "      <td>1.111892</td>\n",
       "      <td>0.936935</td>\n",
       "    </tr>\n",
       "    <tr>\n",
       "      <th>4</th>\n",
       "      <td>0.506962</td>\n",
       "      <td>NaN</td>\n",
       "      <td>NaN</td>\n",
       "      <td>-1.114912</td>\n",
       "    </tr>\n",
       "    <tr>\n",
       "      <th>...</th>\n",
       "      <td>...</td>\n",
       "      <td>...</td>\n",
       "      <td>...</td>\n",
       "      <td>...</td>\n",
       "    </tr>\n",
       "    <tr>\n",
       "      <th>1878</th>\n",
       "      <td>-0.887519</td>\n",
       "      <td>-0.789475</td>\n",
       "      <td>-0.595155</td>\n",
       "      <td>-0.490437</td>\n",
       "    </tr>\n",
       "    <tr>\n",
       "      <th>1879</th>\n",
       "      <td>-0.713209</td>\n",
       "      <td>NaN</td>\n",
       "      <td>NaN</td>\n",
       "      <td>1.501937</td>\n",
       "    </tr>\n",
       "    <tr>\n",
       "      <th>1880</th>\n",
       "      <td>-0.364589</td>\n",
       "      <td>NaN</td>\n",
       "      <td>NaN</td>\n",
       "      <td>-1.560966</td>\n",
       "    </tr>\n",
       "    <tr>\n",
       "      <th>1881</th>\n",
       "      <td>-1.148984</td>\n",
       "      <td>NaN</td>\n",
       "      <td>NaN</td>\n",
       "      <td>0.520618</td>\n",
       "    </tr>\n",
       "    <tr>\n",
       "      <th>1882</th>\n",
       "      <td>NaN</td>\n",
       "      <td>NaN</td>\n",
       "      <td>0.258369</td>\n",
       "      <td>-0.312015</td>\n",
       "    </tr>\n",
       "  </tbody>\n",
       "</table>\n",
       "<p>1858 rows × 4 columns</p>\n",
       "</div>"
      ],
      "text/plain": [
       "             0         3         4         7\n",
       "0     0.681272       NaN       NaN -0.906753\n",
       "1          NaN       NaN  1.396400 -0.193068\n",
       "2    -1.584760 -0.475431 -1.069334 -1.412281\n",
       "3          NaN       NaN  1.111892  0.936935\n",
       "4     0.506962       NaN       NaN -1.114912\n",
       "...        ...       ...       ...       ...\n",
       "1878 -0.887519 -0.789475 -0.595155 -0.490437\n",
       "1879 -0.713209       NaN       NaN  1.501937\n",
       "1880 -0.364589       NaN       NaN -1.560966\n",
       "1881 -1.148984       NaN       NaN  0.520618\n",
       "1882       NaN       NaN  0.258369 -0.312015\n",
       "\n",
       "[1858 rows x 4 columns]"
      ]
     },
     "execution_count": 87,
     "metadata": {},
     "output_type": "execute_result"
    }
   ],
   "source": [
    "X_miss"
   ]
  },
  {
   "cell_type": "code",
   "execution_count": null,
   "id": "2890005a-b584-4916-a650-a9f5bba7f80a",
   "metadata": {},
   "outputs": [],
   "source": []
  },
  {
   "cell_type": "code",
   "execution_count": 86,
   "id": "2c1a2ecb-e1c8-4e10-b975-447dc9449c75",
   "metadata": {},
   "outputs": [],
   "source": [
    "df_CC = X_miss.copy()\n",
    "df_CC.dropna(axis=0, how='any', thresh=None, subset=None, inplace=True)\n",
    "\n",
    "CC_ols = sm.OLS(df_CC.iloc[:,3], df_CC.iloc[:, 0:3])\n",
    "CC_ols_result = CC_ols.fit()\n",
    "df_1_CC_coef = CC_ols_result.params\n",
    "df_1_CC_vars = CC_ols_result.bse"
   ]
  },
  {
   "cell_type": "code",
   "execution_count": 88,
   "id": "59fd04dd-d125-4b3f-993c-5d16c3093e39",
   "metadata": {},
   "outputs": [
    {
     "data": {
      "image/png": "[encoded data removed]",
      "text/plain": [
       "<Figure size 504x360 with 1 Axes>"
      ]
     },
     "metadata": {
      "needs_background": "light"
     },
     "output_type": "display_data"
    }
   ],
   "source": [
    "#Scatter plot\n",
    "plt.figure(figsize=(7,5))\n",
    "plt.scatter(df_CC.iloc[:,0], df_CC.iloc[:,3])\n",
    "tt0 = np.linspace(min(df_CC.iloc[:,0]), max(df_CC.iloc[:,0]), 1000)\n",
    "tt1 = np.linspace(min(df_CC.iloc[:,1]), max(df_CC.iloc[:,1]), 1000)\n",
    "tt2 = np.linspace(min(df_CC.iloc[:,2]), max(df_CC.iloc[:,2]), 1000)\n",
    "plt.plot(tt0, df_1_CC_coef[0] * tt0 + df_1_CC_coef[1] * tt1 + df_1_CC_coef[2] * tt2, c='r')\n",
    "#On ajoute les titres des axes\n",
    "plt.xlabel(\"colimn 0\", fontsize = 12)\n",
    "plt.ylabel(\"column 7 predicted by columns 0, 3, 4\", fontsize = 12)\n",
    "plt.title(\"Linear regression\")\n",
    "\n",
    "plt.show()"
   ]
  },
  {
   "cell_type": "code",
   "execution_count": null,
   "id": "bd2aded0-4e0c-4889-99a0-fba8b3bb5c55",
   "metadata": {},
   "outputs": [],
   "source": []
  },
  {
   "cell_type": "code",
   "execution_count": 89,
   "id": "eec79034-55de-420c-b596-2a4e77472c96",
   "metadata": {},
   "outputs": [
    {
     "data": {
      "text/plain": [
       "Text(0.5, 1.0, 'df_1 w/ CC coefficeints of the linear regression and their variances pooled')"
      ]
     },
     "execution_count": 89,
     "metadata": {},
     "output_type": "execute_result"
    },
    {
     "data": {
      "image/png": "[encoded data removed]",
      "text/plain": [
       "<Figure size 720x504 with 1 Axes>"
      ]
     },
     "metadata": {
      "needs_background": "light"
     },
     "output_type": "display_data"
    }
   ],
   "source": [
    "fig, ax = plt.subplots(1, 1, figsize=(10, 7))\n",
    "ax.bar(x=cols_df1[0:3], \n",
    "       height=df_1_CC_coef, \n",
    "       width=0.6, \n",
    "       yerr = np.sqrt(df_1_CC_vars), \n",
    "       alpha=1,  \n",
    "       edgecolor='black')\n",
    "plt.title(\"df_1 w/ CC coefficeints of the linear regression and their variances pooled\")\n",
    "# plt.savefig(f\"figures/rubin_pooling_{p_mech}_{p_miss}_MEAN.png\", dpi=200)"
   ]
  },
  {
   "cell_type": "code",
   "execution_count": null,
   "id": "7fb0305a-dc26-4c73-925c-6cced0873934",
   "metadata": {},
   "outputs": [],
   "source": []
  },
  {
   "cell_type": "code",
   "execution_count": null,
   "id": "444f483f-31dc-4ed5-8be2-94434f2bc983",
   "metadata": {},
   "outputs": [],
   "source": []
  },
  {
   "cell_type": "code",
   "execution_count": 90,
   "id": "6f9e12ee-151a-4d8f-a1a6-0592a4a0b250",
   "metadata": {},
   "outputs": [],
   "source": [
    "def rubins_pooling_rules(m_coefs, m_vars_coefs):\n",
    "    \"\"\"Applies Rubin's pooling rules.\n",
    "    The final weights is defined as the mean of the weights across the imputed\n",
    "    datasets while the total variance is defined as the combination of the mean\n",
    "    of the variance of the weights and the variance of the coefficients.\n",
    "    Parameters\n",
    "    ----------\n",
    "    m_coefs : ndarray, shape (n_imputations, n_features)\n",
    "        The weights of the model fitted on each imputed dataset.\n",
    "    m_vars_coefs : ndarray, shape (n_imputations, n_features)\n",
    "        An estimate of the variance of the weights on each imputed dataset.\n",
    "    Returns\n",
    "    -------\n",
    "    mean_coefs : ndarray, shape (n_features,)\n",
    "        The mean coefficients computed across the imputed datasets.\n",
    "    total_var_coefs : ndarray, shape (n_features,)\n",
    "        An estimate of the total variation of the weights across the imputed\n",
    "        datasets.\n",
    "    \"\"\"\n",
    "    mean_coefs = np.mean(m_coefs, axis=0)\n",
    "    mean_vars_coefs = np.mean(m_vars_coefs, axis=0)\n",
    "    vars_coefs = np.var(m_coefs, axis=0, ddof=1)\n",
    "    total_var_coefs = mean_vars_coefs + (1 + 1 / vars_coefs.shape[0]) * vars_coefs\n",
    "    return mean_coefs, total_var_coefs\n"
   ]
  },
  {
   "cell_type": "code",
   "execution_count": 91,
   "id": "28796a3a-a6ae-442c-b5a4-b864966aee3d",
   "metadata": {},
   "outputs": [],
   "source": [
    "m_coefs = []\n",
    "m_vars = []\n",
    "imp_mice = []\n",
    "\n",
    "for i in range(n_imputations):\n",
    "    imp = IterativeImputer(max_iter = 50, random_state = i, sample_posterior = True, estimator = BayesianRidge()).fit_transform(X_miss)\n",
    "    imp_mice.append(imp)\n",
    "    imp = pd.DataFrame(imp)\n",
    "\n",
    "    MICE_clf = sm.OLS(imp.iloc[:,3], imp.iloc[:, 0:3])\n",
    "    MICE_clf_result = MICE_clf.fit()\n",
    "    \n",
    "    m_coefs.append(MICE_clf_result.params)\n",
    "    m_vars.append(MICE_clf_result.bse)\n",
    "\n",
    "MICE_coefs = np.array(m_coefs)\n",
    "MICE_vars = np.array(m_vars)\n",
    "mice_df = np.array(imp_mice).mean(axis=0)\n",
    "mice_df = pd.DataFrame(mice_df)"
   ]
  },
  {
   "cell_type": "code",
   "execution_count": 92,
   "id": "474c76c8-60f8-4d68-aeec-304b9dd85820",
   "metadata": {},
   "outputs": [
    {
     "data": {
      "text/html": [
       "<div>\n",
       "<style scoped>\n",
       "    .dataframe tbody tr th:only-of-type {\n",
       "        vertical-align: middle;\n",
       "    }\n",
       "\n",
       "    .dataframe tbody tr th {\n",
       "        vertical-align: top;\n",
       "    }\n",
       "\n",
       "    .dataframe thead th {\n",
       "        text-align: right;\n",
       "    }\n",
       "</style>\n",
       "<table border=\"1\" class=\"dataframe\">\n",
       "  <thead>\n",
       "    <tr style=\"text-align: right;\">\n",
       "      <th></th>\n",
       "      <th>0</th>\n",
       "      <th>3</th>\n",
       "      <th>4</th>\n",
       "      <th>7</th>\n",
       "    </tr>\n",
       "  </thead>\n",
       "  <tbody>\n",
       "    <tr>\n",
       "      <th>0</th>\n",
       "      <td>0.681272</td>\n",
       "      <td>NaN</td>\n",
       "      <td>NaN</td>\n",
       "      <td>-0.906753</td>\n",
       "    </tr>\n",
       "    <tr>\n",
       "      <th>1</th>\n",
       "      <td>NaN</td>\n",
       "      <td>NaN</td>\n",
       "      <td>1.396400</td>\n",
       "      <td>-0.193068</td>\n",
       "    </tr>\n",
       "    <tr>\n",
       "      <th>2</th>\n",
       "      <td>-1.584760</td>\n",
       "      <td>-0.475431</td>\n",
       "      <td>-1.069334</td>\n",
       "      <td>-1.412281</td>\n",
       "    </tr>\n",
       "    <tr>\n",
       "      <th>3</th>\n",
       "      <td>NaN</td>\n",
       "      <td>NaN</td>\n",
       "      <td>1.111892</td>\n",
       "      <td>0.936935</td>\n",
       "    </tr>\n",
       "    <tr>\n",
       "      <th>4</th>\n",
       "      <td>0.506962</td>\n",
       "      <td>NaN</td>\n",
       "      <td>NaN</td>\n",
       "      <td>-1.114912</td>\n",
       "    </tr>\n",
       "    <tr>\n",
       "      <th>...</th>\n",
       "      <td>...</td>\n",
       "      <td>...</td>\n",
       "      <td>...</td>\n",
       "      <td>...</td>\n",
       "    </tr>\n",
       "    <tr>\n",
       "      <th>1878</th>\n",
       "      <td>-0.887519</td>\n",
       "      <td>-0.789475</td>\n",
       "      <td>-0.595155</td>\n",
       "      <td>-0.490437</td>\n",
       "    </tr>\n",
       "    <tr>\n",
       "      <th>1879</th>\n",
       "      <td>-0.713209</td>\n",
       "      <td>NaN</td>\n",
       "      <td>NaN</td>\n",
       "      <td>1.501937</td>\n",
       "    </tr>\n",
       "    <tr>\n",
       "      <th>1880</th>\n",
       "      <td>-0.364589</td>\n",
       "      <td>NaN</td>\n",
       "      <td>NaN</td>\n",
       "      <td>-1.560966</td>\n",
       "    </tr>\n",
       "    <tr>\n",
       "      <th>1881</th>\n",
       "      <td>-1.148984</td>\n",
       "      <td>NaN</td>\n",
       "      <td>NaN</td>\n",
       "      <td>0.520618</td>\n",
       "    </tr>\n",
       "    <tr>\n",
       "      <th>1882</th>\n",
       "      <td>NaN</td>\n",
       "      <td>NaN</td>\n",
       "      <td>0.258369</td>\n",
       "      <td>-0.312015</td>\n",
       "    </tr>\n",
       "  </tbody>\n",
       "</table>\n",
       "<p>1858 rows × 4 columns</p>\n",
       "</div>"
      ],
      "text/plain": [
       "             0         3         4         7\n",
       "0     0.681272       NaN       NaN -0.906753\n",
       "1          NaN       NaN  1.396400 -0.193068\n",
       "2    -1.584760 -0.475431 -1.069334 -1.412281\n",
       "3          NaN       NaN  1.111892  0.936935\n",
       "4     0.506962       NaN       NaN -1.114912\n",
       "...        ...       ...       ...       ...\n",
       "1878 -0.887519 -0.789475 -0.595155 -0.490437\n",
       "1879 -0.713209       NaN       NaN  1.501937\n",
       "1880 -0.364589       NaN       NaN -1.560966\n",
       "1881 -1.148984       NaN       NaN  0.520618\n",
       "1882       NaN       NaN  0.258369 -0.312015\n",
       "\n",
       "[1858 rows x 4 columns]"
      ]
     },
     "execution_count": 92,
     "metadata": {},
     "output_type": "execute_result"
    }
   ],
   "source": [
    "X_miss"
   ]
  },
  {
   "cell_type": "code",
   "execution_count": null,
   "id": "009dbfc7-2e54-4ce9-bbee-d0ce1117af27",
   "metadata": {},
   "outputs": [],
   "source": []
  },
  {
   "cell_type": "code",
   "execution_count": 93,
   "id": "df50e44e-1ada-4058-97e9-0e87929b1f2a",
   "metadata": {},
   "outputs": [
    {
     "data": {
      "text/plain": [
       "array([[ 0.10393638, -0.07688512, -0.10973321],\n",
       "       [ 0.11938245, -0.15481348, -0.05151934],\n",
       "       [ 0.14607476, -0.12782822, -0.12289117],\n",
       "       [ 0.10327617, -0.16868479, -0.03394493],\n",
       "       [ 0.12166152, -0.15694607, -0.06809319]])"
      ]
     },
     "execution_count": 93,
     "metadata": {},
     "output_type": "execute_result"
    }
   ],
   "source": [
    "MICE_coefs"
   ]
  },
  {
   "cell_type": "code",
   "execution_count": null,
   "id": "f867c363-f88e-4537-be80-96306e3af6dc",
   "metadata": {},
   "outputs": [],
   "source": []
  },
  {
   "cell_type": "code",
   "execution_count": 94,
   "id": "89a0b879-a55f-4bcb-a218-fcd3e86ae27e",
   "metadata": {},
   "outputs": [],
   "source": [
    "mice_means = rubins_pooling_rules(MICE_coefs, MICE_vars)[0]\n",
    "mice_varis = rubins_pooling_rules(MICE_coefs, MICE_vars)[1]"
   ]
  },
  {
   "cell_type": "code",
   "execution_count": null,
   "id": "46072d56-d69e-48c3-880c-d019ff32bc85",
   "metadata": {},
   "outputs": [],
   "source": []
  },
  {
   "cell_type": "code",
   "execution_count": 95,
   "id": "557a8e19-9acd-4990-ac58-303aeedbdd07",
   "metadata": {},
   "outputs": [
    {
     "data": {
      "image/png": "[encoded data removed]",
      "text/plain": [
       "<Figure size 504x360 with 1 Axes>"
      ]
     },
     "metadata": {
      "needs_background": "light"
     },
     "output_type": "display_data"
    }
   ],
   "source": [
    "#Scatter plot\n",
    "plt.figure(figsize=(7,5))\n",
    "plt.scatter(mice_df.iloc[:,0], mice_df.iloc[:,3])\n",
    "tt0 = np.linspace(min(mice_df.iloc[:,0]), max(mice_df.iloc[:,0]), 1000)\n",
    "tt1 = np.linspace(min(mice_df.iloc[:,1]), max(mice_df.iloc[:,1]), 1000)\n",
    "tt2 = np.linspace(min(mice_df.iloc[:,2]), max(mice_df.iloc[:,2]), 1000)\n",
    "plt.plot(tt0, mice_means[0] * tt0 + mice_means[1] * tt1 + mice_means[2] * tt2, c='r')\n",
    "#On ajoute les titres des axes\n",
    "plt.xlabel(\"colimn 0\", fontsize = 12)\n",
    "plt.ylabel(\"column 7 predicted by columns 0, 3, 4\", fontsize = 12)\n",
    "plt.title(\"Linear regression\")\n",
    "\n",
    "plt.show()"
   ]
  },
  {
   "cell_type": "code",
   "execution_count": 96,
   "id": "700f2b62-565c-4e03-b2de-e4fc726c028c",
   "metadata": {},
   "outputs": [
    {
     "data": {
      "text/plain": [
       "array([ 0.11886626, -0.13703154, -0.07723637])"
      ]
     },
     "execution_count": 96,
     "metadata": {},
     "output_type": "execute_result"
    }
   ],
   "source": [
    "mice_means"
   ]
  },
  {
   "cell_type": "code",
   "execution_count": 97,
   "id": "d3e56481-d106-4e3b-9aaf-6f993a2c777c",
   "metadata": {},
   "outputs": [
    {
     "data": {
      "text/plain": [
       "Text(0.5, 1.0, 'df_1 w/ MICE coefficeints of the linear regression and their variances pooled')"
      ]
     },
     "execution_count": 97,
     "metadata": {},
     "output_type": "execute_result"
    },
    {
     "data": {
      "image/png": "[encoded data removed]",
      "text/plain": [
       "<Figure size 720x504 with 1 Axes>"
      ]
     },
     "metadata": {
      "needs_background": "light"
     },
     "output_type": "display_data"
    }
   ],
   "source": [
    "fig, ax = plt.subplots(1, 1, figsize=(10, 7))\n",
    "ax.bar(x=cols_df1[0:3], \n",
    "       height= mice_means, \n",
    "       width=0.6, \n",
    "       yerr = np.sqrt(mice_varis), \n",
    "       alpha=1,  \n",
    "       edgecolor='black')\n",
    "plt.title(\"df_1 w/ MICE coefficeints of the linear regression and their variances pooled\")\n",
    "# plt.savefig(f\"figures/rubin_pooling_{p_mech}_{p_miss}_MEAN.png\", dpi=200)"
   ]
  },
  {
   "cell_type": "code",
   "execution_count": null,
   "id": "5b5e5fff-f435-4315-a7ff-88f296985ed0",
   "metadata": {},
   "outputs": [],
   "source": []
  },
  {
   "cell_type": "code",
   "execution_count": 98,
   "id": "081dbbe9-585b-4d32-ac56-46dd2a950e4c",
   "metadata": {},
   "outputs": [
    {
     "data": {
      "text/plain": [
       "Text(0.5, 1.0, 'df_1 w/ MICE coefficeints of the linear regression and their variances pooled')"
      ]
     },
     "execution_count": 98,
     "metadata": {},
     "output_type": "execute_result"
    },
    {
     "data": {
      "image/png": "[encoded data removed]",
      "text/plain": [
       "<Figure size 720x1008 with 3 Axes>"
      ]
     },
     "metadata": {
      "needs_background": "light"
     },
     "output_type": "display_data"
    }
   ],
   "source": [
    "fig, ax = plt.subplots(3, 1, figsize=(10, 14), sharex=True)\n",
    "\n",
    "ax[0].bar(x=cols_df1[0:3], \n",
    "       height=df_1_coefs, \n",
    "       width=0.6, \n",
    "       yerr = np.sqrt(df_1_vars), \n",
    "       alpha=1,  \n",
    "       edgecolor='black')\n",
    "ax[0].set_title(\"Original df_1's coefficeints of the linear regression and their variances pooled\")\n",
    "\n",
    "ax[1].bar(x=cols_df1[0:3], \n",
    "       height=df_1_CC_coef, \n",
    "       width=0.6, \n",
    "       yerr = np.sqrt(df_1_CC_vars), \n",
    "       alpha=1,  \n",
    "       edgecolor='black')\n",
    "ax[1].set_title(\"df_1 w/ CC coefficeints of the linear regression and their variances pooled\")\n",
    "\n",
    "ax[2].bar(x=cols_df1[0:3], \n",
    "       height= mice_means, \n",
    "       width=0.6, \n",
    "       yerr = np.sqrt(mice_varis), \n",
    "       alpha=1,  \n",
    "       edgecolor='black')\n",
    "ax[2].set_title(\"df_1 w/ MICE coefficeints of the linear regression and their variances pooled\")"
   ]
  },
  {
   "cell_type": "code",
   "execution_count": null,
   "id": "0c4f89ef-f846-4e5a-b4d0-2850d58d57f6",
   "metadata": {},
   "outputs": [],
   "source": []
  },
  {
   "cell_type": "markdown",
   "id": "811455e3-f5ba-4e57-b7e4-711f7e3b4dfa",
   "metadata": {},
   "source": [
    "# Function (all together)"
   ]
  },
  {
   "cell_type": "code",
   "execution_count": null,
   "id": "1180b2b4-009b-4257-9ede-7792d40c27fa",
   "metadata": {},
   "outputs": [],
   "source": []
  }
 ],
 "metadata": {
  "kernelspec": {
   "display_name": "mice",
   "language": "python",
   "name": "mice"
  },
  "language_info": {
   "codemirror_mode": {
    "name": "ipython",
    "version": 3
   },
   "file_extension": ".py",
   "mimetype": "text/x-python",
   "name": "python",
   "nbconvert_exporter": "python",
   "pygments_lexer": "ipython3",
   "version": "3.9.12"
  }
 },
 "nbformat": 4,
 "nbformat_minor": 5
}
